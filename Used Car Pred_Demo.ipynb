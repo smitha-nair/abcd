{
 "cells": [
  {
   "cell_type": "markdown",
   "id": "2a7961e5-f83d-4a55-956d-794f6cdb4393",
   "metadata": {},
   "source": [
    "\n",
    "# Estimation of Used Car Prices - Data Science project\n"
   ]
  },
  {
   "cell_type": "code",
   "execution_count": null,
   "id": "5c82569d-a918-428f-9f75-88af6896c2fe",
   "metadata": {},
   "outputs": [],
   "source": []
  },
  {
   "cell_type": "markdown",
   "id": "dea99887",
   "metadata": {},
   "source": [
    "## Import Libraries\n",
    "All libraries are used for specific tasks including data preprocessing, visualization, transformation and evaluation"
   ]
  },
  {
   "cell_type": "code",
   "execution_count": 1,
   "id": "377ef3dc",
   "metadata": {},
   "outputs": [],
   "source": [
    "import numpy as np\n",
    "import pandas as pd\n",
    "import seaborn as sns\n",
    "import matplotlib.pyplot as plt\n",
    "from sklearn.preprocessing import LabelEncoder,StandardScaler\n",
    "from sklearn.linear_model import LinearRegression,Lasso\n",
    "from sklearn.metrics import mean_squared_error,mean_absolute_error\n",
    "from sklearn.ensemble import RandomForestRegressor \n",
    "import warnings\n",
    "warnings.filterwarnings(\"ignore\")"
   ]
  },
  {
   "cell_type": "markdown",
   "id": "b6af7a8c-dc0c-44d8-ac90-a02fa392b126",
   "metadata": {},
   "source": [
    "\n",
    "---------------------------------------------------------\n",
    "\n",
    "\"--------------Business Problem: Estimate the price of a used car-----------\""
   ]
  },
  {
   "cell_type": "markdown",
   "id": "ec4d26d5",
   "metadata": {},
   "source": [
    "## Import Data\n",
    "### Read Training Data\n",
    "The training set is read locally and the **head** function is used to display the data for intial understanding"
   ]
  },
  {
   "cell_type": "markdown",
   "id": "85eb6fb1-26db-4f7b-a2de-006130c8e35b",
   "metadata": {},
   "source": [
    "\"======Data understanding======\""
   ]
  },
  {
   "cell_type": "code",
   "execution_count": 2,
   "id": "cb369321-e43b-4d2c-b684-42b2b51e8165",
   "metadata": {},
   "outputs": [
    {
     "data": {
      "text/html": [
       "<div>\n",
       "<style scoped>\n",
       "    .dataframe tbody tr th:only-of-type {\n",
       "        vertical-align: middle;\n",
       "    }\n",
       "\n",
       "    .dataframe tbody tr th {\n",
       "        vertical-align: top;\n",
       "    }\n",
       "\n",
       "    .dataframe thead th {\n",
       "        text-align: right;\n",
       "    }\n",
       "</style>\n",
       "<table border=\"1\" class=\"dataframe\">\n",
       "  <thead>\n",
       "    <tr style=\"text-align: right;\">\n",
       "      <th></th>\n",
       "      <th>manufacturer_name</th>\n",
       "      <th>transmission</th>\n",
       "      <th>color</th>\n",
       "      <th>odometer_value</th>\n",
       "      <th>year_produced</th>\n",
       "      <th>engine_fuel</th>\n",
       "      <th>engine_type</th>\n",
       "      <th>engine_capacity</th>\n",
       "      <th>body_type</th>\n",
       "      <th>has_warranty</th>\n",
       "      <th>ownership</th>\n",
       "      <th>type_of_drive</th>\n",
       "      <th>is_exchangeable</th>\n",
       "      <th>number_of_photos</th>\n",
       "      <th>number_of_maintenance</th>\n",
       "      <th>duration_listed</th>\n",
       "      <th>price_usd</th>\n",
       "    </tr>\n",
       "  </thead>\n",
       "  <tbody>\n",
       "    <tr>\n",
       "      <th>0</th>\n",
       "      <td>Volkswagen</td>\n",
       "      <td>automatic</td>\n",
       "      <td>black</td>\n",
       "      <td>130000</td>\n",
       "      <td>2016</td>\n",
       "      <td>diesel</td>\n",
       "      <td>diesel</td>\n",
       "      <td>1.6</td>\n",
       "      <td>universal</td>\n",
       "      <td>False</td>\n",
       "      <td>owned</td>\n",
       "      <td>front</td>\n",
       "      <td>True</td>\n",
       "      <td>17</td>\n",
       "      <td>38</td>\n",
       "      <td>67</td>\n",
       "      <td>13150.0</td>\n",
       "    </tr>\n",
       "    <tr>\n",
       "      <th>1</th>\n",
       "      <td>Renault</td>\n",
       "      <td>manual</td>\n",
       "      <td>brown</td>\n",
       "      <td>149000</td>\n",
       "      <td>2012</td>\n",
       "      <td>gasoline</td>\n",
       "      <td>gasoline</td>\n",
       "      <td>1.6</td>\n",
       "      <td>sedan</td>\n",
       "      <td>False</td>\n",
       "      <td>owned</td>\n",
       "      <td>front</td>\n",
       "      <td>False</td>\n",
       "      <td>9</td>\n",
       "      <td>3</td>\n",
       "      <td>100</td>\n",
       "      <td>7500.0</td>\n",
       "    </tr>\n",
       "    <tr>\n",
       "      <th>2</th>\n",
       "      <td>Kia</td>\n",
       "      <td>automatic</td>\n",
       "      <td>brown</td>\n",
       "      <td>110000</td>\n",
       "      <td>2014</td>\n",
       "      <td>gasoline</td>\n",
       "      <td>gasoline</td>\n",
       "      <td>1.6</td>\n",
       "      <td>hatchback</td>\n",
       "      <td>False</td>\n",
       "      <td>owned</td>\n",
       "      <td>front</td>\n",
       "      <td>False</td>\n",
       "      <td>5</td>\n",
       "      <td>10</td>\n",
       "      <td>91</td>\n",
       "      <td>12200.0</td>\n",
       "    </tr>\n",
       "    <tr>\n",
       "      <th>3</th>\n",
       "      <td>Opel</td>\n",
       "      <td>automatic</td>\n",
       "      <td>other</td>\n",
       "      <td>255100</td>\n",
       "      <td>2007</td>\n",
       "      <td>gasoline</td>\n",
       "      <td>gasoline</td>\n",
       "      <td>1.8</td>\n",
       "      <td>hatchback</td>\n",
       "      <td>False</td>\n",
       "      <td>owned</td>\n",
       "      <td>front</td>\n",
       "      <td>False</td>\n",
       "      <td>10</td>\n",
       "      <td>4</td>\n",
       "      <td>91</td>\n",
       "      <td>4950.0</td>\n",
       "    </tr>\n",
       "    <tr>\n",
       "      <th>4</th>\n",
       "      <td>Mazda</td>\n",
       "      <td>manual</td>\n",
       "      <td>blue</td>\n",
       "      <td>650000</td>\n",
       "      <td>1999</td>\n",
       "      <td>gasoline</td>\n",
       "      <td>gasoline</td>\n",
       "      <td>2.0</td>\n",
       "      <td>sedan</td>\n",
       "      <td>False</td>\n",
       "      <td>owned</td>\n",
       "      <td>front</td>\n",
       "      <td>True</td>\n",
       "      <td>5</td>\n",
       "      <td>7</td>\n",
       "      <td>62</td>\n",
       "      <td>3000.0</td>\n",
       "    </tr>\n",
       "  </tbody>\n",
       "</table>\n",
       "</div>"
      ],
      "text/plain": [
       "  manufacturer_name transmission  color  odometer_value  year_produced  \\\n",
       "0        Volkswagen    automatic  black          130000           2016   \n",
       "1           Renault       manual  brown          149000           2012   \n",
       "2               Kia    automatic  brown          110000           2014   \n",
       "3              Opel    automatic  other          255100           2007   \n",
       "4             Mazda       manual   blue          650000           1999   \n",
       "\n",
       "  engine_fuel engine_type  engine_capacity  body_type  has_warranty ownership  \\\n",
       "0      diesel      diesel              1.6  universal         False     owned   \n",
       "1    gasoline    gasoline              1.6      sedan         False     owned   \n",
       "2    gasoline    gasoline              1.6  hatchback         False     owned   \n",
       "3    gasoline    gasoline              1.8  hatchback         False     owned   \n",
       "4    gasoline    gasoline              2.0      sedan         False     owned   \n",
       "\n",
       "  type_of_drive  is_exchangeable  number_of_photos  number_of_maintenance  \\\n",
       "0         front             True                17                     38   \n",
       "1         front            False                 9                      3   \n",
       "2         front            False                 5                     10   \n",
       "3         front            False                10                      4   \n",
       "4         front             True                 5                      7   \n",
       "\n",
       "   duration_listed  price_usd  \n",
       "0               67    13150.0  \n",
       "1              100     7500.0  \n",
       "2               91    12200.0  \n",
       "3               91     4950.0  \n",
       "4               62     3000.0  "
      ]
     },
     "execution_count": 2,
     "metadata": {},
     "output_type": "execute_result"
    }
   ],
   "source": [
    "import pandas as pd\n",
    "\n",
    "dataTrain = pd.read_csv('data_train.csv')\n",
    " \n",
    "dataTrain.head()"
   ]
  },
  {
   "cell_type": "code",
   "execution_count": 3,
   "id": "bb6f24b4-3a8b-4baa-a62a-f6047a5e5b06",
   "metadata": {},
   "outputs": [
    {
     "data": {
      "text/plain": [
       "pandas.core.frame.DataFrame"
      ]
     },
     "execution_count": 3,
     "metadata": {},
     "output_type": "execute_result"
    }
   ],
   "source": [
    "type(dataTrain)  #data type"
   ]
  },
  {
   "cell_type": "markdown",
   "id": "2db3d8e5",
   "metadata": {},
   "source": [
    "The **shape** function displays the number of rows and columns in the training set"
   ]
  },
  {
   "cell_type": "code",
   "execution_count": 4,
   "id": "6a13a8de",
   "metadata": {},
   "outputs": [
    {
     "data": {
      "text/plain": [
       "(50000, 17)"
      ]
     },
     "execution_count": 4,
     "metadata": {},
     "output_type": "execute_result"
    }
   ],
   "source": [
    "dataTrain.shape # check dimension"
   ]
  },
  {
   "cell_type": "markdown",
   "id": "867f2150",
   "metadata": {},
   "source": [
    "### Read Testing Data\n",
    "The testing set is read locally and the **head** function is used to display the data for intial understanding"
   ]
  },
  {
   "cell_type": "code",
   "execution_count": 5,
   "id": "72f31742",
   "metadata": {},
   "outputs": [
    {
     "data": {
      "text/html": [
       "<div>\n",
       "<style scoped>\n",
       "    .dataframe tbody tr th:only-of-type {\n",
       "        vertical-align: middle;\n",
       "    }\n",
       "\n",
       "    .dataframe tbody tr th {\n",
       "        vertical-align: top;\n",
       "    }\n",
       "\n",
       "    .dataframe thead th {\n",
       "        text-align: right;\n",
       "    }\n",
       "</style>\n",
       "<table border=\"1\" class=\"dataframe\">\n",
       "  <thead>\n",
       "    <tr style=\"text-align: right;\">\n",
       "      <th></th>\n",
       "      <th>manufacturer_name</th>\n",
       "      <th>transmission</th>\n",
       "      <th>color</th>\n",
       "      <th>odometer_value</th>\n",
       "      <th>year_produced</th>\n",
       "      <th>engine_fuel</th>\n",
       "      <th>engine_type</th>\n",
       "      <th>engine_capacity</th>\n",
       "      <th>body_type</th>\n",
       "      <th>has_warranty</th>\n",
       "      <th>ownership</th>\n",
       "      <th>type_of_drive</th>\n",
       "      <th>is_exchangeable</th>\n",
       "      <th>number_of_photos</th>\n",
       "      <th>number_of_maintenance</th>\n",
       "      <th>duration_listed</th>\n",
       "      <th>price_usd</th>\n",
       "    </tr>\n",
       "  </thead>\n",
       "  <tbody>\n",
       "    <tr>\n",
       "      <th>0</th>\n",
       "      <td>BMW</td>\n",
       "      <td>automatic</td>\n",
       "      <td>white</td>\n",
       "      <td>115000</td>\n",
       "      <td>2012</td>\n",
       "      <td>gasoline</td>\n",
       "      <td>gasoline</td>\n",
       "      <td>4.4</td>\n",
       "      <td>sedan</td>\n",
       "      <td>False</td>\n",
       "      <td>owned</td>\n",
       "      <td>all</td>\n",
       "      <td>True</td>\n",
       "      <td>32</td>\n",
       "      <td>104</td>\n",
       "      <td>146</td>\n",
       "      <td>20450.0</td>\n",
       "    </tr>\n",
       "    <tr>\n",
       "      <th>1</th>\n",
       "      <td>Mercedes-Benz</td>\n",
       "      <td>manual</td>\n",
       "      <td>other</td>\n",
       "      <td>500000</td>\n",
       "      <td>1999</td>\n",
       "      <td>diesel</td>\n",
       "      <td>diesel</td>\n",
       "      <td>2.2</td>\n",
       "      <td>sedan</td>\n",
       "      <td>False</td>\n",
       "      <td>owned</td>\n",
       "      <td>rear</td>\n",
       "      <td>False</td>\n",
       "      <td>7</td>\n",
       "      <td>9</td>\n",
       "      <td>147</td>\n",
       "      <td>2600.0</td>\n",
       "    </tr>\n",
       "    <tr>\n",
       "      <th>2</th>\n",
       "      <td>Fiat</td>\n",
       "      <td>manual</td>\n",
       "      <td>silver</td>\n",
       "      <td>210000</td>\n",
       "      <td>2002</td>\n",
       "      <td>gasoline</td>\n",
       "      <td>gasoline</td>\n",
       "      <td>1.2</td>\n",
       "      <td>hatchback</td>\n",
       "      <td>False</td>\n",
       "      <td>owned</td>\n",
       "      <td>front</td>\n",
       "      <td>True</td>\n",
       "      <td>16</td>\n",
       "      <td>7</td>\n",
       "      <td>27</td>\n",
       "      <td>2900.0</td>\n",
       "    </tr>\n",
       "    <tr>\n",
       "      <th>3</th>\n",
       "      <td>Mitsubishi</td>\n",
       "      <td>automatic</td>\n",
       "      <td>violet</td>\n",
       "      <td>294000</td>\n",
       "      <td>2000</td>\n",
       "      <td>diesel</td>\n",
       "      <td>diesel</td>\n",
       "      <td>3.2</td>\n",
       "      <td>suv</td>\n",
       "      <td>False</td>\n",
       "      <td>owned</td>\n",
       "      <td>all</td>\n",
       "      <td>True</td>\n",
       "      <td>10</td>\n",
       "      <td>2</td>\n",
       "      <td>48</td>\n",
       "      <td>7500.0</td>\n",
       "    </tr>\n",
       "    <tr>\n",
       "      <th>4</th>\n",
       "      <td>Opel</td>\n",
       "      <td>automatic</td>\n",
       "      <td>blue</td>\n",
       "      <td>244000</td>\n",
       "      <td>1998</td>\n",
       "      <td>gasoline</td>\n",
       "      <td>gasoline</td>\n",
       "      <td>1.6</td>\n",
       "      <td>sedan</td>\n",
       "      <td>False</td>\n",
       "      <td>owned</td>\n",
       "      <td>front</td>\n",
       "      <td>False</td>\n",
       "      <td>9</td>\n",
       "      <td>10</td>\n",
       "      <td>116</td>\n",
       "      <td>2200.0</td>\n",
       "    </tr>\n",
       "  </tbody>\n",
       "</table>\n",
       "</div>"
      ],
      "text/plain": [
       "  manufacturer_name transmission   color  odometer_value  year_produced  \\\n",
       "0               BMW    automatic   white          115000           2012   \n",
       "1     Mercedes-Benz       manual   other          500000           1999   \n",
       "2              Fiat       manual  silver          210000           2002   \n",
       "3        Mitsubishi    automatic  violet          294000           2000   \n",
       "4              Opel    automatic    blue          244000           1998   \n",
       "\n",
       "  engine_fuel engine_type  engine_capacity  body_type  has_warranty ownership  \\\n",
       "0    gasoline    gasoline              4.4      sedan         False     owned   \n",
       "1      diesel      diesel              2.2      sedan         False     owned   \n",
       "2    gasoline    gasoline              1.2  hatchback         False     owned   \n",
       "3      diesel      diesel              3.2        suv         False     owned   \n",
       "4    gasoline    gasoline              1.6      sedan         False     owned   \n",
       "\n",
       "  type_of_drive  is_exchangeable  number_of_photos  number_of_maintenance  \\\n",
       "0           all             True                32                    104   \n",
       "1          rear            False                 7                      9   \n",
       "2         front             True                16                      7   \n",
       "3           all             True                10                      2   \n",
       "4         front            False                 9                     10   \n",
       "\n",
       "   duration_listed  price_usd  \n",
       "0              146    20450.0  \n",
       "1              147     2600.0  \n",
       "2               27     2900.0  \n",
       "3               48     7500.0  \n",
       "4              116     2200.0  "
      ]
     },
     "execution_count": 5,
     "metadata": {},
     "output_type": "execute_result"
    }
   ],
   "source": [
    "dataTest = pd.read_csv('data_test.csv')\n",
    "dataTest.head()"
   ]
  },
  {
   "cell_type": "markdown",
   "id": "58537af1",
   "metadata": {},
   "source": [
    "The **shape** function displays the number of rows and columns in the testing set"
   ]
  },
  {
   "cell_type": "code",
   "execution_count": 6,
   "id": "57d09fbd",
   "metadata": {},
   "outputs": [
    {
     "data": {
      "text/plain": [
       "(27000, 17)"
      ]
     },
     "execution_count": 6,
     "metadata": {},
     "output_type": "execute_result"
    }
   ],
   "source": [
    "dataTest.shape"
   ]
  },
  {
   "cell_type": "markdown",
   "id": "d0023e64",
   "metadata": {},
   "source": [
    "Checking for null values in each column and displaying the sum of all null values in each column (Training Set)"
   ]
  },
  {
   "cell_type": "code",
   "execution_count": 7,
   "id": "54d24c7a",
   "metadata": {},
   "outputs": [
    {
     "data": {
      "text/plain": [
       "manufacturer_name         0\n",
       "transmission              0\n",
       "color                     0\n",
       "odometer_value            0\n",
       "year_produced             0\n",
       "engine_fuel               0\n",
       "engine_type               0\n",
       "engine_capacity          15\n",
       "body_type                 0\n",
       "has_warranty              0\n",
       "ownership                 0\n",
       "type_of_drive             0\n",
       "is_exchangeable           0\n",
       "number_of_photos          0\n",
       "number_of_maintenance     0\n",
       "duration_listed           0\n",
       "price_usd                 0\n",
       "dtype: int64"
      ]
     },
     "execution_count": 7,
     "metadata": {},
     "output_type": "execute_result"
    }
   ],
   "source": [
    "dataTrain.isnull().sum()"
   ]
  },
  {
   "cell_type": "markdown",
   "id": "15f13936",
   "metadata": {},
   "source": [
    "Checking for null values in each column and displaying the sum of all null values in each column (Testing Set)"
   ]
  },
  {
   "cell_type": "code",
   "execution_count": 8,
   "id": "62c2ee30",
   "metadata": {},
   "outputs": [
    {
     "data": {
      "text/plain": [
       "manufacturer_name        0\n",
       "transmission             0\n",
       "color                    0\n",
       "odometer_value           0\n",
       "year_produced            0\n",
       "engine_fuel              0\n",
       "engine_type              0\n",
       "engine_capacity          5\n",
       "body_type                0\n",
       "has_warranty             0\n",
       "ownership                0\n",
       "type_of_drive            0\n",
       "is_exchangeable          0\n",
       "number_of_photos         0\n",
       "number_of_maintenance    0\n",
       "duration_listed          0\n",
       "price_usd                0\n",
       "dtype: int64"
      ]
     },
     "execution_count": 8,
     "metadata": {},
     "output_type": "execute_result"
    }
   ],
   "source": [
    "dataTest.isnull().sum()"
   ]
  },
  {
   "cell_type": "markdown",
   "id": "5653f6a4",
   "metadata": {},
   "source": [
    "Removing the rows with empty values since the number of empty rows are small. This is the best approach compared to replacing with mean or random values"
   ]
  },
  {
   "cell_type": "code",
   "execution_count": 9,
   "id": "5c8b640c",
   "metadata": {},
   "outputs": [],
   "source": [
    "dataTrain = dataTrain.dropna()\n",
    "dataTest = dataTest.dropna()"
   ]
  },
  {
   "cell_type": "markdown",
   "id": "8507f3fd",
   "metadata": {},
   "source": [
    "Checking if null values are eliminated (Training set)"
   ]
  },
  {
   "cell_type": "code",
   "execution_count": 10,
   "id": "e8545910",
   "metadata": {},
   "outputs": [
    {
     "data": {
      "text/plain": [
       "manufacturer_name        0\n",
       "transmission             0\n",
       "color                    0\n",
       "odometer_value           0\n",
       "year_produced            0\n",
       "engine_fuel              0\n",
       "engine_type              0\n",
       "engine_capacity          0\n",
       "body_type                0\n",
       "has_warranty             0\n",
       "ownership                0\n",
       "type_of_drive            0\n",
       "is_exchangeable          0\n",
       "number_of_photos         0\n",
       "number_of_maintenance    0\n",
       "duration_listed          0\n",
       "price_usd                0\n",
       "dtype: int64"
      ]
     },
     "execution_count": 10,
     "metadata": {},
     "output_type": "execute_result"
    }
   ],
   "source": [
    "dataTrain.isnull().sum()"
   ]
  },
  {
   "cell_type": "code",
   "execution_count": 11,
   "id": "b8f9e257",
   "metadata": {},
   "outputs": [
    {
     "data": {
      "text/plain": [
       "(49985, 17)"
      ]
     },
     "execution_count": 11,
     "metadata": {},
     "output_type": "execute_result"
    }
   ],
   "source": [
    "dataTrain.shape # 15 rows removed"
   ]
  },
  {
   "cell_type": "markdown",
   "id": "f6766e05",
   "metadata": {},
   "source": [
    "Checking if null values are eliminated (Testing set)"
   ]
  },
  {
   "cell_type": "code",
   "execution_count": 12,
   "id": "491981d2",
   "metadata": {},
   "outputs": [
    {
     "data": {
      "text/plain": [
       "manufacturer_name        0\n",
       "transmission             0\n",
       "color                    0\n",
       "odometer_value           0\n",
       "year_produced            0\n",
       "engine_fuel              0\n",
       "engine_type              0\n",
       "engine_capacity          0\n",
       "body_type                0\n",
       "has_warranty             0\n",
       "ownership                0\n",
       "type_of_drive            0\n",
       "is_exchangeable          0\n",
       "number_of_photos         0\n",
       "number_of_maintenance    0\n",
       "duration_listed          0\n",
       "price_usd                0\n",
       "dtype: int64"
      ]
     },
     "execution_count": 12,
     "metadata": {},
     "output_type": "execute_result"
    }
   ],
   "source": [
    "dataTest.isnull().sum()   "
   ]
  },
  {
   "cell_type": "code",
   "execution_count": 13,
   "id": "6545fe7a",
   "metadata": {},
   "outputs": [
    {
     "data": {
      "text/plain": [
       "(26995, 17)"
      ]
     },
     "execution_count": 13,
     "metadata": {},
     "output_type": "execute_result"
    }
   ],
   "source": [
    "dataTest.shape  # 5 rows removed"
   ]
  },
  {
   "cell_type": "markdown",
   "id": "1452ef43",
   "metadata": {},
   "source": [
    "Checking the data types to see if all the data is in correct format. All the data seems to be in their required format."
   ]
  },
  {
   "cell_type": "code",
   "execution_count": 14,
   "id": "b86cefbd",
   "metadata": {},
   "outputs": [
    {
     "data": {
      "text/plain": [
       "manufacturer_name         object\n",
       "transmission              object\n",
       "color                     object\n",
       "odometer_value             int64\n",
       "year_produced              int64\n",
       "engine_fuel               object\n",
       "engine_type               object\n",
       "engine_capacity          float64\n",
       "body_type                 object\n",
       "has_warranty                bool\n",
       "ownership                 object\n",
       "type_of_drive             object\n",
       "is_exchangeable             bool\n",
       "number_of_photos           int64\n",
       "number_of_maintenance      int64\n",
       "duration_listed            int64\n",
       "price_usd                float64\n",
       "dtype: object"
      ]
     },
     "execution_count": 14,
     "metadata": {},
     "output_type": "execute_result"
    }
   ],
   "source": [
    "dataTrain.dtypes  # checking the data type of every column"
   ]
  },
  {
   "cell_type": "markdown",
   "id": "dd8f36a8",
   "metadata": {},
   "source": [
    "Checking the correlation between the numerical features"
   ]
  },
  {
   "cell_type": "markdown",
   "id": "6430d74e",
   "metadata": {},
   "source": [
    "## EDA (Exploratory Data Analysis)\n",
    "Visualizations are used to understand the relationship between the target variable and the features, in addition to correlation coefficient and p-value. \n",
    "The visuals include heatmap, scatterplot,boxplot etc.\n"
   ]
  },
  {
   "cell_type": "markdown",
   "id": "67e1363f-7a50-43ed-8ddb-f233cea94e0c",
   "metadata": {},
   "source": [
    "# Heat map"
   ]
  },
  {
   "cell_type": "code",
   "execution_count": 15,
   "id": "f98345e8-8bbb-4fd7-8148-0a91915d5217",
   "metadata": {},
   "outputs": [
    {
     "data": {
      "image/png": "[encoded data removed]",
      "text/plain": [
       "<Figure size 720x432 with 2 Axes>"
      ]
     },
     "metadata": {
      "needs_background": "light"
     },
     "output_type": "display_data"
    }
   ],
   "source": [
    "import matplotlib.pyplot as plt\n",
    "import seaborn as sns\n",
    "\n",
    "plt.figure(figsize=(10,6))\n",
    "corr = dataTrain.corr()  \n",
    "##This is a pandas DataFrame method that is used to calculate the correlation between variables in the DataFrame.\n",
    "sns.heatmap(corr,annot=True)\n",
    "plt.show()"
   ]
  },
  {
   "cell_type": "markdown",
   "id": "6067c523-824d-4602-ad3a-7b7aedb65579",
   "metadata": {},
   "source": [
    "From the heatmap, it is observed that 'year_produced' is the best feature among all the features with numerical data"
   ]
  },
  {
   "cell_type": "code",
   "execution_count": 16,
   "id": "922b8d15-6f70-44ff-b296-8a4431e8ab67",
   "metadata": {},
   "outputs": [
    {
     "data": {
      "text/html": [
       "<div>\n",
       "<style scoped>\n",
       "    .dataframe tbody tr th:only-of-type {\n",
       "        vertical-align: middle;\n",
       "    }\n",
       "\n",
       "    .dataframe tbody tr th {\n",
       "        vertical-align: top;\n",
       "    }\n",
       "\n",
       "    .dataframe thead th {\n",
       "        text-align: right;\n",
       "    }\n",
       "</style>\n",
       "<table border=\"1\" class=\"dataframe\">\n",
       "  <thead>\n",
       "    <tr style=\"text-align: right;\">\n",
       "      <th></th>\n",
       "      <th>odometer_value</th>\n",
       "      <th>year_produced</th>\n",
       "      <th>engine_capacity</th>\n",
       "      <th>number_of_photos</th>\n",
       "      <th>number_of_maintenance</th>\n",
       "      <th>duration_listed</th>\n",
       "      <th>price_usd</th>\n",
       "    </tr>\n",
       "  </thead>\n",
       "  <tbody>\n",
       "    <tr>\n",
       "      <th>count</th>\n",
       "      <td>49985.000000</td>\n",
       "      <td>49985.000000</td>\n",
       "      <td>49985.000000</td>\n",
       "      <td>49985.000000</td>\n",
       "      <td>49985.000000</td>\n",
       "      <td>49985.000000</td>\n",
       "      <td>49985.000000</td>\n",
       "    </tr>\n",
       "    <tr>\n",
       "      <th>mean</th>\n",
       "      <td>249275.754426</td>\n",
       "      <td>2002.942143</td>\n",
       "      <td>2.056894</td>\n",
       "      <td>9.660958</td>\n",
       "      <td>16.257417</td>\n",
       "      <td>80.749385</td>\n",
       "      <td>6651.131653</td>\n",
       "    </tr>\n",
       "    <tr>\n",
       "      <th>std</th>\n",
       "      <td>136342.510114</td>\n",
       "      <td>8.065809</td>\n",
       "      <td>0.675106</td>\n",
       "      <td>6.144711</td>\n",
       "      <td>41.542444</td>\n",
       "      <td>113.620345</td>\n",
       "      <td>6462.573155</td>\n",
       "    </tr>\n",
       "    <tr>\n",
       "      <th>min</th>\n",
       "      <td>0.000000</td>\n",
       "      <td>1942.000000</td>\n",
       "      <td>0.200000</td>\n",
       "      <td>1.000000</td>\n",
       "      <td>1.000000</td>\n",
       "      <td>0.000000</td>\n",
       "      <td>1.000000</td>\n",
       "    </tr>\n",
       "    <tr>\n",
       "      <th>25%</th>\n",
       "      <td>158000.000000</td>\n",
       "      <td>1998.000000</td>\n",
       "      <td>1.600000</td>\n",
       "      <td>5.000000</td>\n",
       "      <td>2.000000</td>\n",
       "      <td>23.000000</td>\n",
       "      <td>2100.000000</td>\n",
       "    </tr>\n",
       "    <tr>\n",
       "      <th>50%</th>\n",
       "      <td>250000.000000</td>\n",
       "      <td>2003.000000</td>\n",
       "      <td>2.000000</td>\n",
       "      <td>8.000000</td>\n",
       "      <td>5.000000</td>\n",
       "      <td>59.000000</td>\n",
       "      <td>4800.000000</td>\n",
       "    </tr>\n",
       "    <tr>\n",
       "      <th>75%</th>\n",
       "      <td>325000.000000</td>\n",
       "      <td>2009.000000</td>\n",
       "      <td>2.300000</td>\n",
       "      <td>12.000000</td>\n",
       "      <td>16.000000</td>\n",
       "      <td>91.000000</td>\n",
       "      <td>8963.290000</td>\n",
       "    </tr>\n",
       "    <tr>\n",
       "      <th>max</th>\n",
       "      <td>1000000.000000</td>\n",
       "      <td>2019.000000</td>\n",
       "      <td>8.000000</td>\n",
       "      <td>86.000000</td>\n",
       "      <td>1273.000000</td>\n",
       "      <td>2232.000000</td>\n",
       "      <td>50000.000000</td>\n",
       "    </tr>\n",
       "  </tbody>\n",
       "</table>\n",
       "</div>"
      ],
      "text/plain": [
       "       odometer_value  year_produced  engine_capacity  number_of_photos  \\\n",
       "count    49985.000000   49985.000000     49985.000000      49985.000000   \n",
       "mean    249275.754426    2002.942143         2.056894          9.660958   \n",
       "std     136342.510114       8.065809         0.675106          6.144711   \n",
       "min          0.000000    1942.000000         0.200000          1.000000   \n",
       "25%     158000.000000    1998.000000         1.600000          5.000000   \n",
       "50%     250000.000000    2003.000000         2.000000          8.000000   \n",
       "75%     325000.000000    2009.000000         2.300000         12.000000   \n",
       "max    1000000.000000    2019.000000         8.000000         86.000000   \n",
       "\n",
       "       number_of_maintenance  duration_listed     price_usd  \n",
       "count           49985.000000     49985.000000  49985.000000  \n",
       "mean               16.257417        80.749385   6651.131653  \n",
       "std                41.542444       113.620345   6462.573155  \n",
       "min                 1.000000         0.000000      1.000000  \n",
       "25%                 2.000000        23.000000   2100.000000  \n",
       "50%                 5.000000        59.000000   4800.000000  \n",
       "75%                16.000000        91.000000   8963.290000  \n",
       "max              1273.000000      2232.000000  50000.000000  "
      ]
     },
     "execution_count": 16,
     "metadata": {},
     "output_type": "execute_result"
    }
   ],
   "source": [
    "dataTrain.describe()  #generate various summary statistics of a DataFrame \n",
    "#Note: Only features with numeric data are considered"
   ]
  },
  {
   "cell_type": "markdown",
   "id": "6e1f3eb1-0f55-4b54-a133-8c5ab8b24ffb",
   "metadata": {},
   "source": [
    "A descriptive analysis to check incorrect entries and anormalies. This is also used to give an overview of the numerical data. It is observed that most of the data has no incorrect entries."
   ]
  },
  {
   "cell_type": "markdown",
   "id": "5fb693a3-57bb-47cd-a542-d4574d287afc",
   "metadata": {},
   "source": [
    "1. Count: The number of values in the dataframe.\n",
    "2. Mean: The arithmetic mean or average of the values.\n",
    "3. Standard Deviation (std): A measure of the dispersion or spread of the values.\n",
    "4. Minimum: The minimum (smallest) value in each column.\n",
    "5. 25th Percentile (25%): The value below which 25% of the data falls (1st quartile). Means 25% of the entire data falls under the value 158000 for odometer_value\n",
    "6. 50th Percentile (50%): The median or value below which 50% of the data falls (2nd quartile).\n",
    "7. 75th Percentile (75%): The value below which 75% of the data falls (3rd quartile).\n",
    "8. Maximum: The maximum (largest) value in the Series."
   ]
  },
  {
   "cell_type": "markdown",
   "id": "da2bc36f-9e9c-40bf-ab61-acef72d0e9e6",
   "metadata": {},
   "source": [
    "**************************************************************"
   ]
  },
  {
   "cell_type": "markdown",
   "id": "5f61f8f1-101b-4169-bee8-7f7f10b2d20a",
   "metadata": {},
   "source": [
    "#Looking at the \"minimum price\", 1 USD is found.\n",
    "#This could be a wrong entry (or an outlier)\n",
    "\n",
    "\n"
   ]
  },
  {
   "cell_type": "code",
   "execution_count": 17,
   "id": "528a21da-2d8c-4ab3-9a29-b7b3a2e09028",
   "metadata": {},
   "outputs": [],
   "source": [
    "#Search for price = 1 , if so, change the price to 500\n",
    "dataTrain.loc[dataTrain['price_usd'] == 1, 'price_usd'] = 500 "
   ]
  },
  {
   "cell_type": "code",
   "execution_count": 18,
   "id": "7b5dba68-f475-4253-ade0-d03cfaa9811a",
   "metadata": {},
   "outputs": [
    {
     "data": {
      "text/html": [
       "<div>\n",
       "<style scoped>\n",
       "    .dataframe tbody tr th:only-of-type {\n",
       "        vertical-align: middle;\n",
       "    }\n",
       "\n",
       "    .dataframe tbody tr th {\n",
       "        vertical-align: top;\n",
       "    }\n",
       "\n",
       "    .dataframe thead th {\n",
       "        text-align: right;\n",
       "    }\n",
       "</style>\n",
       "<table border=\"1\" class=\"dataframe\">\n",
       "  <thead>\n",
       "    <tr style=\"text-align: right;\">\n",
       "      <th></th>\n",
       "      <th>odometer_value</th>\n",
       "      <th>year_produced</th>\n",
       "      <th>engine_capacity</th>\n",
       "      <th>number_of_photos</th>\n",
       "      <th>number_of_maintenance</th>\n",
       "      <th>duration_listed</th>\n",
       "      <th>price_usd</th>\n",
       "    </tr>\n",
       "  </thead>\n",
       "  <tbody>\n",
       "    <tr>\n",
       "      <th>count</th>\n",
       "      <td>49985.000000</td>\n",
       "      <td>49985.000000</td>\n",
       "      <td>49985.000000</td>\n",
       "      <td>49985.000000</td>\n",
       "      <td>49985.000000</td>\n",
       "      <td>49985.000000</td>\n",
       "      <td>49985.000000</td>\n",
       "    </tr>\n",
       "    <tr>\n",
       "      <th>mean</th>\n",
       "      <td>249275.754426</td>\n",
       "      <td>2002.942143</td>\n",
       "      <td>2.056894</td>\n",
       "      <td>9.660958</td>\n",
       "      <td>16.257417</td>\n",
       "      <td>80.749385</td>\n",
       "      <td>6651.191551</td>\n",
       "    </tr>\n",
       "    <tr>\n",
       "      <th>std</th>\n",
       "      <td>136342.510114</td>\n",
       "      <td>8.065809</td>\n",
       "      <td>0.675106</td>\n",
       "      <td>6.144711</td>\n",
       "      <td>41.542444</td>\n",
       "      <td>113.620345</td>\n",
       "      <td>6462.513829</td>\n",
       "    </tr>\n",
       "    <tr>\n",
       "      <th>min</th>\n",
       "      <td>0.000000</td>\n",
       "      <td>1942.000000</td>\n",
       "      <td>0.200000</td>\n",
       "      <td>1.000000</td>\n",
       "      <td>1.000000</td>\n",
       "      <td>0.000000</td>\n",
       "      <td>1.420000</td>\n",
       "    </tr>\n",
       "    <tr>\n",
       "      <th>25%</th>\n",
       "      <td>158000.000000</td>\n",
       "      <td>1998.000000</td>\n",
       "      <td>1.600000</td>\n",
       "      <td>5.000000</td>\n",
       "      <td>2.000000</td>\n",
       "      <td>23.000000</td>\n",
       "      <td>2100.000000</td>\n",
       "    </tr>\n",
       "    <tr>\n",
       "      <th>50%</th>\n",
       "      <td>250000.000000</td>\n",
       "      <td>2003.000000</td>\n",
       "      <td>2.000000</td>\n",
       "      <td>8.000000</td>\n",
       "      <td>5.000000</td>\n",
       "      <td>59.000000</td>\n",
       "      <td>4800.000000</td>\n",
       "    </tr>\n",
       "    <tr>\n",
       "      <th>75%</th>\n",
       "      <td>325000.000000</td>\n",
       "      <td>2009.000000</td>\n",
       "      <td>2.300000</td>\n",
       "      <td>12.000000</td>\n",
       "      <td>16.000000</td>\n",
       "      <td>91.000000</td>\n",
       "      <td>8963.290000</td>\n",
       "    </tr>\n",
       "    <tr>\n",
       "      <th>max</th>\n",
       "      <td>1000000.000000</td>\n",
       "      <td>2019.000000</td>\n",
       "      <td>8.000000</td>\n",
       "      <td>86.000000</td>\n",
       "      <td>1273.000000</td>\n",
       "      <td>2232.000000</td>\n",
       "      <td>50000.000000</td>\n",
       "    </tr>\n",
       "  </tbody>\n",
       "</table>\n",
       "</div>"
      ],
      "text/plain": [
       "       odometer_value  year_produced  engine_capacity  number_of_photos  \\\n",
       "count    49985.000000   49985.000000     49985.000000      49985.000000   \n",
       "mean    249275.754426    2002.942143         2.056894          9.660958   \n",
       "std     136342.510114       8.065809         0.675106          6.144711   \n",
       "min          0.000000    1942.000000         0.200000          1.000000   \n",
       "25%     158000.000000    1998.000000         1.600000          5.000000   \n",
       "50%     250000.000000    2003.000000         2.000000          8.000000   \n",
       "75%     325000.000000    2009.000000         2.300000         12.000000   \n",
       "max    1000000.000000    2019.000000         8.000000         86.000000   \n",
       "\n",
       "       number_of_maintenance  duration_listed     price_usd  \n",
       "count           49985.000000     49985.000000  49985.000000  \n",
       "mean               16.257417        80.749385   6651.191551  \n",
       "std                41.542444       113.620345   6462.513829  \n",
       "min                 1.000000         0.000000      1.420000  \n",
       "25%                 2.000000        23.000000   2100.000000  \n",
       "50%                 5.000000        59.000000   4800.000000  \n",
       "75%                16.000000        91.000000   8963.290000  \n",
       "max              1273.000000      2232.000000  50000.000000  "
      ]
     },
     "execution_count": 18,
     "metadata": {},
     "output_type": "execute_result"
    }
   ],
   "source": [
    "dataTrain.describe()  # now still the minimum price is 1.42 USD"
   ]
  },
  {
   "cell_type": "code",
   "execution_count": 19,
   "id": "5bc78db7-d62f-4f76-8fe7-6385ac3a385f",
   "metadata": {},
   "outputs": [],
   "source": [
    "#Search for price < 500 , if so, change the price to 500\n",
    "dataTrain.loc[dataTrain['price_usd'] < 500, 'price_usd'] = 500"
   ]
  },
  {
   "cell_type": "code",
   "execution_count": 20,
   "id": "d81211c7-4581-42db-85d8-2e74d64244a9",
   "metadata": {},
   "outputs": [
    {
     "data": {
      "text/html": [
       "<div>\n",
       "<style scoped>\n",
       "    .dataframe tbody tr th:only-of-type {\n",
       "        vertical-align: middle;\n",
       "    }\n",
       "\n",
       "    .dataframe tbody tr th {\n",
       "        vertical-align: top;\n",
       "    }\n",
       "\n",
       "    .dataframe thead th {\n",
       "        text-align: right;\n",
       "    }\n",
       "</style>\n",
       "<table border=\"1\" class=\"dataframe\">\n",
       "  <thead>\n",
       "    <tr style=\"text-align: right;\">\n",
       "      <th></th>\n",
       "      <th>odometer_value</th>\n",
       "      <th>year_produced</th>\n",
       "      <th>engine_capacity</th>\n",
       "      <th>number_of_photos</th>\n",
       "      <th>number_of_maintenance</th>\n",
       "      <th>duration_listed</th>\n",
       "      <th>price_usd</th>\n",
       "    </tr>\n",
       "  </thead>\n",
       "  <tbody>\n",
       "    <tr>\n",
       "      <th>count</th>\n",
       "      <td>49985.000000</td>\n",
       "      <td>49985.000000</td>\n",
       "      <td>49985.000000</td>\n",
       "      <td>49985.000000</td>\n",
       "      <td>49985.000000</td>\n",
       "      <td>49985.000000</td>\n",
       "      <td>49985.000000</td>\n",
       "    </tr>\n",
       "    <tr>\n",
       "      <th>mean</th>\n",
       "      <td>249275.754426</td>\n",
       "      <td>2002.942143</td>\n",
       "      <td>2.056894</td>\n",
       "      <td>9.660958</td>\n",
       "      <td>16.257417</td>\n",
       "      <td>80.749385</td>\n",
       "      <td>6655.001201</td>\n",
       "    </tr>\n",
       "    <tr>\n",
       "      <th>std</th>\n",
       "      <td>136342.510114</td>\n",
       "      <td>8.065809</td>\n",
       "      <td>0.675106</td>\n",
       "      <td>6.144711</td>\n",
       "      <td>41.542444</td>\n",
       "      <td>113.620345</td>\n",
       "      <td>6458.821934</td>\n",
       "    </tr>\n",
       "    <tr>\n",
       "      <th>min</th>\n",
       "      <td>0.000000</td>\n",
       "      <td>1942.000000</td>\n",
       "      <td>0.200000</td>\n",
       "      <td>1.000000</td>\n",
       "      <td>1.000000</td>\n",
       "      <td>0.000000</td>\n",
       "      <td>500.000000</td>\n",
       "    </tr>\n",
       "    <tr>\n",
       "      <th>25%</th>\n",
       "      <td>158000.000000</td>\n",
       "      <td>1998.000000</td>\n",
       "      <td>1.600000</td>\n",
       "      <td>5.000000</td>\n",
       "      <td>2.000000</td>\n",
       "      <td>23.000000</td>\n",
       "      <td>2100.000000</td>\n",
       "    </tr>\n",
       "    <tr>\n",
       "      <th>50%</th>\n",
       "      <td>250000.000000</td>\n",
       "      <td>2003.000000</td>\n",
       "      <td>2.000000</td>\n",
       "      <td>8.000000</td>\n",
       "      <td>5.000000</td>\n",
       "      <td>59.000000</td>\n",
       "      <td>4800.000000</td>\n",
       "    </tr>\n",
       "    <tr>\n",
       "      <th>75%</th>\n",
       "      <td>325000.000000</td>\n",
       "      <td>2009.000000</td>\n",
       "      <td>2.300000</td>\n",
       "      <td>12.000000</td>\n",
       "      <td>16.000000</td>\n",
       "      <td>91.000000</td>\n",
       "      <td>8963.290000</td>\n",
       "    </tr>\n",
       "    <tr>\n",
       "      <th>max</th>\n",
       "      <td>1000000.000000</td>\n",
       "      <td>2019.000000</td>\n",
       "      <td>8.000000</td>\n",
       "      <td>86.000000</td>\n",
       "      <td>1273.000000</td>\n",
       "      <td>2232.000000</td>\n",
       "      <td>50000.000000</td>\n",
       "    </tr>\n",
       "  </tbody>\n",
       "</table>\n",
       "</div>"
      ],
      "text/plain": [
       "       odometer_value  year_produced  engine_capacity  number_of_photos  \\\n",
       "count    49985.000000   49985.000000     49985.000000      49985.000000   \n",
       "mean    249275.754426    2002.942143         2.056894          9.660958   \n",
       "std     136342.510114       8.065809         0.675106          6.144711   \n",
       "min          0.000000    1942.000000         0.200000          1.000000   \n",
       "25%     158000.000000    1998.000000         1.600000          5.000000   \n",
       "50%     250000.000000    2003.000000         2.000000          8.000000   \n",
       "75%     325000.000000    2009.000000         2.300000         12.000000   \n",
       "max    1000000.000000    2019.000000         8.000000         86.000000   \n",
       "\n",
       "       number_of_maintenance  duration_listed     price_usd  \n",
       "count           49985.000000     49985.000000  49985.000000  \n",
       "mean               16.257417        80.749385   6655.001201  \n",
       "std                41.542444       113.620345   6458.821934  \n",
       "min                 1.000000         0.000000    500.000000  \n",
       "25%                 2.000000        23.000000   2100.000000  \n",
       "50%                 5.000000        59.000000   4800.000000  \n",
       "75%                16.000000        91.000000   8963.290000  \n",
       "max              1273.000000      2232.000000  50000.000000  "
      ]
     },
     "execution_count": 20,
     "metadata": {},
     "output_type": "execute_result"
    }
   ],
   "source": [
    "dataTrain.describe()  # now the minimum price is 500 USD"
   ]
  },
  {
   "cell_type": "markdown",
   "id": "c3fadbc3-5c89-4130-9c2f-bdc1a2d2a137",
   "metadata": {},
   "source": [
    "Find the distribution of the price in the entire dataset\n",
    "using \"bins\"  -- Technique applied is called data binning"
   ]
  },
  {
   "cell_type": "code",
   "execution_count": 21,
   "id": "086f8099-9100-4aa0-ace0-1c7031e5583f",
   "metadata": {},
   "outputs": [
    {
     "data": {
      "image/png": "[encoded data removed]",
      "text/plain": [
       "<Figure size 432x288 with 1 Axes>"
      ]
     },
     "metadata": {
      "needs_background": "light"
     },
     "output_type": "display_data"
    }
   ],
   "source": [
    "import matplotlib.pyplot as plt\n",
    "\n",
    "dataTrain['price_usd'].plot(kind = 'hist', bins = 5, edgecolor='black')   # 5 bins are used\n",
    "plt.xlabel('Price')\n",
    "plt.ylabel('Frequency')\n",
    "plt.title('Distribution of Prices')\n",
    "plt.show()"
   ]
  },
  {
   "cell_type": "markdown",
   "id": "7b7c3e90-8a09-4bba-b85b-302a63f0c08f",
   "metadata": {},
   "source": [
    "From the histogram, it is understood that majority of the car samples are of lower prices"
   ]
  },
  {
   "cell_type": "code",
   "execution_count": 22,
   "id": "63850a88-7da5-43d7-9eed-4cf9462f43be",
   "metadata": {},
   "outputs": [
    {
     "data": {
      "text/html": [
       "<div>\n",
       "<style scoped>\n",
       "    .dataframe tbody tr th:only-of-type {\n",
       "        vertical-align: middle;\n",
       "    }\n",
       "\n",
       "    .dataframe tbody tr th {\n",
       "        vertical-align: top;\n",
       "    }\n",
       "\n",
       "    .dataframe thead th {\n",
       "        text-align: right;\n",
       "    }\n",
       "</style>\n",
       "<table border=\"1\" class=\"dataframe\">\n",
       "  <thead>\n",
       "    <tr style=\"text-align: right;\">\n",
       "      <th></th>\n",
       "      <th>manufacturer_name</th>\n",
       "      <th>transmission</th>\n",
       "      <th>color</th>\n",
       "      <th>engine_fuel</th>\n",
       "      <th>engine_type</th>\n",
       "      <th>body_type</th>\n",
       "      <th>ownership</th>\n",
       "      <th>type_of_drive</th>\n",
       "    </tr>\n",
       "  </thead>\n",
       "  <tbody>\n",
       "    <tr>\n",
       "      <th>count</th>\n",
       "      <td>49985</td>\n",
       "      <td>49985</td>\n",
       "      <td>49985</td>\n",
       "      <td>49985</td>\n",
       "      <td>49985</td>\n",
       "      <td>49985</td>\n",
       "      <td>49985</td>\n",
       "      <td>49985</td>\n",
       "    </tr>\n",
       "    <tr>\n",
       "      <th>unique</th>\n",
       "      <td>55</td>\n",
       "      <td>2</td>\n",
       "      <td>12</td>\n",
       "      <td>5</td>\n",
       "      <td>2</td>\n",
       "      <td>12</td>\n",
       "      <td>3</td>\n",
       "      <td>3</td>\n",
       "    </tr>\n",
       "    <tr>\n",
       "      <th>top</th>\n",
       "      <td>Volkswagen</td>\n",
       "      <td>manual</td>\n",
       "      <td>black</td>\n",
       "      <td>gasoline</td>\n",
       "      <td>gasoline</td>\n",
       "      <td>sedan</td>\n",
       "      <td>owned</td>\n",
       "      <td>front</td>\n",
       "    </tr>\n",
       "    <tr>\n",
       "      <th>freq</th>\n",
       "      <td>5478</td>\n",
       "      <td>33277</td>\n",
       "      <td>9977</td>\n",
       "      <td>31255</td>\n",
       "      <td>33324</td>\n",
       "      <td>16910</td>\n",
       "      <td>48941</td>\n",
       "      <td>36001</td>\n",
       "    </tr>\n",
       "  </tbody>\n",
       "</table>\n",
       "</div>"
      ],
      "text/plain": [
       "       manufacturer_name transmission  color engine_fuel engine_type  \\\n",
       "count              49985        49985  49985       49985       49985   \n",
       "unique                55            2     12           5           2   \n",
       "top           Volkswagen       manual  black    gasoline    gasoline   \n",
       "freq                5478        33277   9977       31255       33324   \n",
       "\n",
       "       body_type ownership type_of_drive  \n",
       "count      49985     49985         49985  \n",
       "unique        12         3             3  \n",
       "top        sedan     owned         front  \n",
       "freq       16910     48941         36001  "
      ]
     },
     "execution_count": 22,
     "metadata": {},
     "output_type": "execute_result"
    }
   ],
   "source": [
    "dataTrain.describe(include = 'object') #summary statistics for categorical values"
   ]
  },
  {
   "cell_type": "markdown",
   "id": "9a1b9e0e",
   "metadata": {},
   "source": [
    "### Regression/scatter Plot\n",
    "This regression plot show the relation between **odometer** and **price**. A slight negative correlation is observed\n",
    "whaich shows that price is being affected by the change in odometer value."
   ]
  },
  {
   "cell_type": "code",
   "execution_count": 23,
   "id": "552ad7c9",
   "metadata": {},
   "outputs": [
    {
     "data": {
      "text/plain": [
       "<AxesSubplot:xlabel='odometer_value', ylabel='price_usd'>"
      ]
     },
     "execution_count": 23,
     "metadata": {},
     "output_type": "execute_result"
    },
    {
     "data": {
      "image/png": "[encoded data removed]",
      "text/plain": [
       "<Figure size 720x432 with 1 Axes>"
      ]
     },
     "metadata": {
      "needs_background": "light"
     },
     "output_type": "display_data"
    }
   ],
   "source": [
    "import seaborn as sns\n",
    "plt.figure(figsize=(10,6))\n",
    "sns.regplot(x=\"odometer_value\", y=\"price_usd\", data=dataTrain)"
   ]
  },
  {
   "cell_type": "markdown",
   "id": "2827653e",
   "metadata": {},
   "source": [
    "As observed in the plot, a **negative correlation** is observed"
   ]
  },
  {
   "cell_type": "code",
   "execution_count": 24,
   "id": "e6e357db",
   "metadata": {},
   "outputs": [
    {
     "name": "stdout",
     "output_type": "stream",
     "text": [
      "The Pearson Correlation Coefficient is -0.4218115453982761  with a P-value of P = 0.0\n"
     ]
    }
   ],
   "source": [
    "from scipy import stats\n",
    "pearson_coef, p_value = stats.pearsonr(dataTrain['odometer_value'], dataTrain['price_usd'])\n",
    "print(\"The Pearson Correlation Coefficient is\", pearson_coef, \" with a P-value of P =\", p_value)  "
   ]
  },
  {
   "cell_type": "markdown",
   "id": "1192617c-9a57-48d2-8568-ca6936e71057",
   "metadata": {},
   "source": [
    "-- Pearson corr coeff of -0.42 is obtained along with a p-value of 0. \n",
    "\n",
    "-- The Pearson Correlation Coefficient (r) is a measure of the linear relationship between two variables. It can take values between -1 and 1\n",
    "\n",
    "-- If r is close to 1, it indicates a strong positive linear relationship. This means that as one variable increases, the other variable tends to increase as well.\n",
    "\n",
    "-- If r is close to -1, it indicates a strong negative linear relationship. This means that as one variable increases, the other variable tends to decrease.\n",
    "\n",
    "-- If r is close to 0, it suggests a weak or no linear relationship. In other words, the variables are not strongly correlated.\n",
    "\n",
    "-- Here, the Pearson Correlation Coefficient is approximately -0.422, which is closer to -1 than to 0. This indicates a moderate negative linear relationship between the two variables being correlated.\n",
    "\n",
    "-- The p-value (probablity) is used to determine the statistical significance of the correlation. In other words, how confidently one can say a feature is correlated to the target ariable.\n",
    "\n",
    "\"IMPORTANT:\" A P-value less than 0.05 (commonly used significance level) suggests that the correlation is statistically significant and hence reject the Null hypothesis. \n",
    "\n",
    "What is my null hypothesis? \n",
    "H0: The feature variable is correlated to a target variable. \n",
    "\n",
    "Very important: A P-value of 0.0 means (more confidently say the feature is correlated to target) and that the correlation is extremely unlikely to have occurred by random chance, indicating strong statistical significance.\n",
    "\n",
    "-- The p value here (that corresponds to odometer_values) confirms strong correlation, hence this feature is a critical feature to the prediction of used car price."
   ]
  },
  {
   "cell_type": "markdown",
   "id": "4e5237d2",
   "metadata": {},
   "source": [
    "The regression plot below shows a relationship between the year that the car is produced and the price of the car. A positive \n",
    "correlation is observed between the two variables. This shows that the price increases with increase in production year of the car."
   ]
  },
  {
   "cell_type": "code",
   "execution_count": 25,
   "id": "9ea08467",
   "metadata": {},
   "outputs": [
    {
     "data": {
      "text/plain": [
       "<AxesSubplot:xlabel='year_produced', ylabel='price_usd'>"
      ]
     },
     "execution_count": 25,
     "metadata": {},
     "output_type": "execute_result"
    },
    {
     "data": {
      "image/png": "[encoded data removed]",
      "text/plain": [
       "<Figure size 720x432 with 1 Axes>"
      ]
     },
     "metadata": {
      "needs_background": "light"
     },
     "output_type": "display_data"
    }
   ],
   "source": [
    "plt.figure(figsize=(10,6))\n",
    "sns.regplot(x=\"year_produced\", y=\"price_usd\", data=dataTrain)"
   ]
  },
  {
   "cell_type": "markdown",
   "id": "4d039f1a",
   "metadata": {},
   "source": [
    "As observed above, a high positive correlation of 0.7 is calculated along with the p-value of 0. This indicates that the correlation between the variables is significant hence year produced feature can be used for prediction."
   ]
  },
  {
   "cell_type": "code",
   "execution_count": 26,
   "id": "9169b35e",
   "metadata": {},
   "outputs": [
    {
     "name": "stdout",
     "output_type": "stream",
     "text": [
      "The Pearson Correlation Coefficient is 0.7040068696388823  with a P-value of P = 0.0\n"
     ]
    }
   ],
   "source": [
    "pearson_coef, p_value = stats.pearsonr(dataTrain['year_produced'], dataTrain['price_usd'])\n",
    "print(\"The Pearson Correlation Coefficient is\", pearson_coef, \" with a P-value of P =\", p_value)  "
   ]
  },
  {
   "cell_type": "markdown",
   "id": "9604ae26",
   "metadata": {},
   "source": [
    "check for correlation between 'engine_capacity' and 'price'"
   ]
  },
  {
   "cell_type": "code",
   "execution_count": 27,
   "id": "f9ba85cc",
   "metadata": {},
   "outputs": [
    {
     "data": {
      "text/plain": [
       "<AxesSubplot:xlabel='engine_capacity', ylabel='price_usd'>"
      ]
     },
     "execution_count": 27,
     "metadata": {},
     "output_type": "execute_result"
    },
    {
     "data": {
      "image/png": "[encoded data removed]",
      "text/plain": [
       "<Figure size 720x432 with 1 Axes>"
      ]
     },
     "metadata": {
      "needs_background": "light"
     },
     "output_type": "display_data"
    }
   ],
   "source": [
    "plt.figure(figsize=(10,6))\n",
    "sns.regplot(x=\"engine_capacity\", y=\"price_usd\", data=dataTrain)"
   ]
  },
  {
   "cell_type": "markdown",
   "id": "56e7c19c",
   "metadata": {},
   "source": [
    "A 0.3 correlation is calculated which is very small with a p value of 0. This indicates that even though the correlation is small but its 30% of 100 which is significant hence this feature can be used for predicition."
   ]
  },
  {
   "cell_type": "code",
   "execution_count": 28,
   "id": "e46302cb",
   "metadata": {},
   "outputs": [
    {
     "name": "stdout",
     "output_type": "stream",
     "text": [
      "The Pearson Correlation Coefficient is 0.3010737475548003  with a P-value of P = 0.0\n"
     ]
    }
   ],
   "source": [
    "pearson_coef, p_value = stats.pearsonr(dataTrain['engine_capacity'], dataTrain['price_usd'])\n",
    "print(\"The Pearson Correlation Coefficient is\", pearson_coef, \" with a P-value of P =\", p_value) "
   ]
  },
  {
   "cell_type": "markdown",
   "id": "4637e8e5",
   "metadata": {},
   "source": [
    "This regression plot shows an minor positive correlation observed with the help of the best fit line. The calculation will confirm the actual value."
   ]
  },
  {
   "cell_type": "markdown",
   "id": "f41facbf-62c6-4185-9d5d-ecfa594b9af2",
   "metadata": {},
   "source": [
    "-----check for correlation between 'number of photos' and 'price'------------"
   ]
  },
  {
   "cell_type": "code",
   "execution_count": 29,
   "id": "ff946600",
   "metadata": {},
   "outputs": [
    {
     "data": {
      "text/plain": [
       "<AxesSubplot:xlabel='number_of_photos', ylabel='price_usd'>"
      ]
     },
     "execution_count": 29,
     "metadata": {},
     "output_type": "execute_result"
    },
    {
     "data": {
      "image/png": "[encoded data removed]",
      "text/plain": [
       "<Figure size 720x432 with 1 Axes>"
      ]
     },
     "metadata": {
      "needs_background": "light"
     },
     "output_type": "display_data"
    }
   ],
   "source": [
    "plt.figure(figsize=(10,6))\n",
    "sns.regplot(x=\"number_of_photos\", y=\"price_usd\", data=dataTrain)"
   ]
  },
  {
   "cell_type": "markdown",
   "id": "544cce91",
   "metadata": {},
   "source": [
    "The correlation is 0.31 based on the calculation while the p-value calculated is zero. This is similar to the last feature hence the significant 31% of 100 correlation makes this feature eligble for prediction."
   ]
  },
  {
   "cell_type": "code",
   "execution_count": 30,
   "id": "19bbeaf9",
   "metadata": {},
   "outputs": [
    {
     "name": "stdout",
     "output_type": "stream",
     "text": [
      "The Pearson Correlation Coefficient is 0.31665130348352233  with a P-value of P = 0.0\n"
     ]
    }
   ],
   "source": [
    "pearson_coef, p_value = stats.pearsonr(dataTrain['number_of_photos'], dataTrain['price_usd'])\n",
    "print(\"The Pearson Correlation Coefficient is\", pearson_coef, \" with a P-value of P =\", p_value)"
   ]
  },
  {
   "cell_type": "markdown",
   "id": "74edac4f",
   "metadata": {},
   "source": [
    "This plot shows correlation with points all over the graph like the previous feature varibale."
   ]
  },
  {
   "cell_type": "markdown",
   "id": "46354142-c2e2-4156-84fb-4ff4a99dc837",
   "metadata": {},
   "source": [
    "-------check correlation b/w number of mantenance and price-------------"
   ]
  },
  {
   "cell_type": "code",
   "execution_count": 31,
   "id": "143dda8c",
   "metadata": {},
   "outputs": [
    {
     "data": {
      "text/plain": [
       "<AxesSubplot:xlabel='number_of_maintenance', ylabel='price_usd'>"
      ]
     },
     "execution_count": 31,
     "metadata": {},
     "output_type": "execute_result"
    },
    {
     "data": {
      "image/png": "[encoded data removed]",
      "text/plain": [
       "<Figure size 720x432 with 1 Axes>"
      ]
     },
     "metadata": {
      "needs_background": "light"
     },
     "output_type": "display_data"
    }
   ],
   "source": [
    "plt.figure(figsize=(10,6))\n",
    "sns.regplot(x=\"number_of_maintenance\", y=\"price_usd\", data=dataTrain)"
   ]
  },
  {
   "cell_type": "markdown",
   "id": "d914d870",
   "metadata": {},
   "source": [
    "The calculation proves that a correlation is lesser than 0.1 percent and indicates no correlation and the p-value lesser than 0.05 confirms it. This feature is not a critical feature for predicition\n",
    "\n",
    "A P-value less than 0.05 (commonly used significance level) suggests that the correlation is statistically significant and hence reject the Null hypothesis. \n",
    "\n",
    "What is my null hypothesis? \n",
    "H0: The number_of_maintenance is correlated to price. \n",
    "\n",
    "My alternate hypothesis\n",
    "HA: The number_of_maintenance is not correlated to price. "
   ]
  },
  {
   "cell_type": "code",
   "execution_count": 32,
   "id": "4ae5cbaf",
   "metadata": {},
   "outputs": [
    {
     "name": "stdout",
     "output_type": "stream",
     "text": [
      "The Pearson Correlation Coefficient is 0.058965872342647094  with a P-value of P = 9.457574767402127e-40\n"
     ]
    }
   ],
   "source": [
    "pearson_coef, p_value = stats.pearsonr(dataTrain['number_of_maintenance'], dataTrain['price_usd'])\n",
    "print(\"The Pearson Correlation Coefficient is\", pearson_coef, \" with a P-value of P =\", p_value)"
   ]
  },
  {
   "cell_type": "markdown",
   "id": "c7cd4449",
   "metadata": {},
   "source": [
    "---- this plot shows no correlation with points all over the graph ----"
   ]
  },
  {
   "cell_type": "markdown",
   "id": "1b6ac7e4-996d-4de0-84b6-e5ae87f810ef",
   "metadata": {},
   "source": [
    "*************check correlation between duration listed and price***************"
   ]
  },
  {
   "cell_type": "code",
   "execution_count": 33,
   "id": "9558bcbb",
   "metadata": {},
   "outputs": [
    {
     "data": {
      "text/plain": [
       "<AxesSubplot:xlabel='duration_listed', ylabel='price_usd'>"
      ]
     },
     "execution_count": 33,
     "metadata": {},
     "output_type": "execute_result"
    },
    {
     "data": {
      "image/png": "[encoded data removed]",
      "text/plain": [
       "<Figure size 720x432 with 1 Axes>"
      ]
     },
     "metadata": {
      "needs_background": "light"
     },
     "output_type": "display_data"
    }
   ],
   "source": [
    "plt.figure(figsize=(10,6))\n",
    "sns.regplot(x=\"duration_listed\", y=\"price_usd\", data=dataTrain)"
   ]
  },
  {
   "cell_type": "raw",
   "id": "3fec0028-7661-4c69-95b0-b6145a444224",
   "metadata": {},
   "source": [
    "The calculated correlation is lesser than 0.1 which is considered negligible. The p-value lesser than 0.05 confirming the rejection of null hypothesis and hence this feature is not suitable for prediction of price. "
   ]
  },
  {
   "cell_type": "code",
   "execution_count": 34,
   "id": "4d54f59b",
   "metadata": {},
   "outputs": [
    {
     "name": "stdout",
     "output_type": "stream",
     "text": [
      "The Pearson Correlation Coefficient is 0.03589305102194968  with a P-value of P = 9.979407828541872e-16\n"
     ]
    }
   ],
   "source": [
    "pearson_coef, p_value = stats.pearsonr(dataTrain['duration_listed'], dataTrain['price_usd'])\n",
    "print(\"The Pearson Correlation Coefficient is\", pearson_coef, \" with a P-value of P =\", p_value)"
   ]
  },
  {
   "cell_type": "markdown",
   "id": "89a223e3",
   "metadata": {},
   "source": [
    "### Box Plot\n",
    "These plots are used for categorical data to determine the importance of features for prediction. "
   ]
  },
  {
   "cell_type": "markdown",
   "id": "0d715fff",
   "metadata": {},
   "source": [
    "In the given plot below, it is observed that the price range vary for automatic and manual transmisson. This indicates the categories can vary with price hence feature can be used for prediction"
   ]
  },
  {
   "cell_type": "code",
   "execution_count": 35,
   "id": "5bf1471f",
   "metadata": {},
   "outputs": [
    {
     "data": {
      "text/plain": [
       "<AxesSubplot:xlabel='transmission', ylabel='price_usd'>"
      ]
     },
     "execution_count": 35,
     "metadata": {},
     "output_type": "execute_result"
    },
    {
     "data": {
      "image/png": "[encoded data removed]",
      "text/plain": [
       "<Figure size 432x288 with 1 Axes>"
      ]
     },
     "metadata": {
      "needs_background": "light"
     },
     "output_type": "display_data"
    }
   ],
   "source": [
    "sns.boxplot(x=\"transmission\", y=\"price_usd\", data=dataTrain)"
   ]
  },
  {
   "cell_type": "markdown",
   "id": "1149d8d3",
   "metadata": {},
   "source": [
    "The box plot shows how prices vary based on different colors. This shows that color can be used as a feature for price prediction."
   ]
  },
  {
   "cell_type": "code",
   "execution_count": 36,
   "id": "7b4e8133",
   "metadata": {},
   "outputs": [
    {
     "data": {
      "text/plain": [
       "<AxesSubplot:xlabel='color', ylabel='price_usd'>"
      ]
     },
     "execution_count": 36,
     "metadata": {},
     "output_type": "execute_result"
    },
    {
     "data": {
      "image/png": "[encoded data removed]",
      "text/plain": [
       "<Figure size 720x432 with 1 Axes>"
      ]
     },
     "metadata": {
      "needs_background": "light"
     },
     "output_type": "display_data"
    }
   ],
   "source": [
    "plt.figure(figsize=(10,6))\n",
    "sns.boxplot(x=\"color\", y=\"price_usd\", data=dataTrain)"
   ]
  },
  {
   "cell_type": "markdown",
   "id": "b7bb904d",
   "metadata": {},
   "source": [
    "This plot shows engine fuel types and how they affect the price. Hybrid petroll with the highest price range while hybrid diesel with lowest price range. This feature can be used for prediction."
   ]
  },
  {
   "cell_type": "code",
   "execution_count": 37,
   "id": "f4444437",
   "metadata": {},
   "outputs": [
    {
     "data": {
      "text/plain": [
       "<AxesSubplot:xlabel='engine_fuel', ylabel='price_usd'>"
      ]
     },
     "execution_count": 37,
     "metadata": {},
     "output_type": "execute_result"
    },
    {
     "data": {
      "image/png": "[encoded data removed]",
      "text/plain": [
       "<Figure size 432x288 with 1 Axes>"
      ]
     },
     "metadata": {
      "needs_background": "light"
     },
     "output_type": "display_data"
    }
   ],
   "source": [
    "sns.boxplot(x=\"engine_fuel\", y=\"price_usd\", data=dataTrain)"
   ]
  },
  {
   "cell_type": "markdown",
   "id": "4f50f959",
   "metadata": {},
   "source": [
    "The engine type (based on fuel type) shows that both categories have almost the same price range which will not bring differences in price when prediction is made. Hence this feature is not suitable for price prediction"
   ]
  },
  {
   "cell_type": "code",
   "execution_count": 38,
   "id": "f496a7b0",
   "metadata": {},
   "outputs": [
    {
     "data": {
      "text/plain": [
       "<AxesSubplot:xlabel='engine_type', ylabel='price_usd'>"
      ]
     },
     "execution_count": 38,
     "metadata": {},
     "output_type": "execute_result"
    },
    {
     "data": {
      "image/png": "[encoded data removed]",
      "text/plain": [
       "<Figure size 432x288 with 1 Axes>"
      ]
     },
     "metadata": {
      "needs_background": "light"
     },
     "output_type": "display_data"
    }
   ],
   "source": [
    "sns.boxplot(x=\"engine_type\", y=\"price_usd\", data=dataTrain)"
   ]
  },
  {
   "cell_type": "markdown",
   "id": "a45ac113",
   "metadata": {},
   "source": [
    "Thee box plot shows body type categories with varying prices per category hence this feature can be used for price prediction, not so signficant though"
   ]
  },
  {
   "cell_type": "code",
   "execution_count": 39,
   "id": "1e34f3b6",
   "metadata": {},
   "outputs": [
    {
     "data": {
      "text/plain": [
       "<AxesSubplot:xlabel='body_type', ylabel='price_usd'>"
      ]
     },
     "execution_count": 39,
     "metadata": {},
     "output_type": "execute_result"
    },
    {
     "data": {
      "image/png": "[encoded data removed]",
      "text/plain": [
       "<Figure size 720x432 with 1 Axes>"
      ]
     },
     "metadata": {
      "needs_background": "light"
     },
     "output_type": "display_data"
    }
   ],
   "source": [
    "plt.figure(figsize=(10,6))\n",
    "sns.boxplot(x=\"body_type\", y=\"price_usd\", data=dataTrain)"
   ]
  },
  {
   "cell_type": "markdown",
   "id": "dd3555c8",
   "metadata": {},
   "source": [
    "Has warranty feature shows a huge difference in price ranges between cars with warrant and vice versa. This feature is very important for price prediction as the bigger the difference in range the better the feature."
   ]
  },
  {
   "cell_type": "code",
   "execution_count": 40,
   "id": "749a2a68",
   "metadata": {},
   "outputs": [
    {
     "data": {
      "text/plain": [
       "<AxesSubplot:xlabel='has_warranty', ylabel='price_usd'>"
      ]
     },
     "execution_count": 40,
     "metadata": {},
     "output_type": "execute_result"
    },
    {
     "data": {
      "image/png": "[encoded data removed]",
      "text/plain": [
       "<Figure size 432x288 with 1 Axes>"
      ]
     },
     "metadata": {
      "needs_background": "light"
     },
     "output_type": "display_data"
    }
   ],
   "source": [
    "sns.boxplot(x=\"has_warranty\", y=\"price_usd\", data=dataTrain)"
   ]
  },
  {
   "cell_type": "markdown",
   "id": "c52da0a6",
   "metadata": {},
   "source": [
    "This feature is similar to the feature above, all three categories have wider price ranges between one another. This feature is also crucial for price prediction."
   ]
  },
  {
   "cell_type": "code",
   "execution_count": 41,
   "id": "a9b37719",
   "metadata": {},
   "outputs": [
    {
     "data": {
      "text/plain": [
       "<AxesSubplot:xlabel='ownership', ylabel='price_usd'>"
      ]
     },
     "execution_count": 41,
     "metadata": {},
     "output_type": "execute_result"
    },
    {
     "data": {
      "image/png": "[encoded data removed]",
      "text/plain": [
       "<Figure size 432x288 with 1 Axes>"
      ]
     },
     "metadata": {
      "needs_background": "light"
     },
     "output_type": "display_data"
    }
   ],
   "source": [
    "sns.boxplot(x=\"ownership\", y=\"price_usd\", data=dataTrain)"
   ]
  },
  {
   "cell_type": "markdown",
   "id": "0885257a",
   "metadata": {},
   "source": [
    "Front and rear drive have **minimal price difference** while all drive shows a **greater difference** hence the feature can be used for prediction."
   ]
  },
  {
   "cell_type": "code",
   "execution_count": 42,
   "id": "064e3bc3",
   "metadata": {},
   "outputs": [
    {
     "data": {
      "text/plain": [
       "<AxesSubplot:xlabel='type_of_drive', ylabel='price_usd'>"
      ]
     },
     "execution_count": 42,
     "metadata": {},
     "output_type": "execute_result"
    },
    {
     "data": {
      "image/png": "[encoded data removed]",
      "text/plain": [
       "<Figure size 432x288 with 1 Axes>"
      ]
     },
     "metadata": {
      "needs_background": "light"
     },
     "output_type": "display_data"
    }
   ],
   "source": [
    "sns.boxplot(x=\"type_of_drive\", y=\"price_usd\", data=dataTrain)"
   ]
  },
  {
   "cell_type": "markdown",
   "id": "0109bbff",
   "metadata": {},
   "source": [
    "With not same price range between categories this feature is  suitable for prediction."
   ]
  },
  {
   "cell_type": "code",
   "execution_count": 43,
   "id": "7c71e187",
   "metadata": {},
   "outputs": [
    {
     "data": {
      "text/plain": [
       "<AxesSubplot:xlabel='is_exchangeable', ylabel='price_usd'>"
      ]
     },
     "execution_count": 43,
     "metadata": {},
     "output_type": "execute_result"
    },
    {
     "data": {
      "image/png": "[encoded data removed]",
      "text/plain": [
       "<Figure size 432x288 with 1 Axes>"
      ]
     },
     "metadata": {
      "needs_background": "light"
     },
     "output_type": "display_data"
    }
   ],
   "source": [
    "sns.boxplot(x=\"is_exchangeable\", y=\"price_usd\", data=dataTrain)"
   ]
  },
  {
   "cell_type": "markdown",
   "id": "de0efdd2",
   "metadata": {},
   "source": [
    "This plot shows that the manufacturer name is not important when selling a car. The variety of price ranges for all categories prove that the feature is insignificant for price prediction."
   ]
  },
  {
   "cell_type": "code",
   "execution_count": 44,
   "id": "ad7bc105",
   "metadata": {},
   "outputs": [
    {
     "data": {
      "text/plain": [
       "<AxesSubplot:xlabel='manufacturer_name', ylabel='price_usd'>"
      ]
     },
     "execution_count": 44,
     "metadata": {},
     "output_type": "execute_result"
    },
    {
     "data": {
      "image/png": "[encoded data removed]",
      "text/plain": [
       "<Figure size 720x432 with 1 Axes>"
      ]
     },
     "metadata": {
      "needs_background": "light"
     },
     "output_type": "display_data"
    }
   ],
   "source": [
    "plt.figure(figsize=(10,6))\n",
    "sns.boxplot(x=\"manufacturer_name\", y=\"price_usd\", data=dataTrain)"
   ]
  },
  {
   "cell_type": "markdown",
   "id": "8ea16894-ef89-4e65-a96b-1d854f805ddc",
   "metadata": {},
   "source": [
    "Using Exploratory data analysis, few features can be dropped because they had no impact on the price prediction. Those features are removed with the function below.(Training set)"
   ]
  },
  {
   "cell_type": "code",
   "execution_count": 45,
   "id": "28f7b530-fb36-40ec-afcf-36faffd4e763",
   "metadata": {},
   "outputs": [],
   "source": [
    "dataTrain.drop(['number_of_maintenance', 'duration_listed', 'engine_type','is_exchangeable'], axis = 1, inplace = True)"
   ]
  },
  {
   "cell_type": "markdown",
   "id": "645dcdf1-a303-48aa-9bce-982bcf1e939f",
   "metadata": {},
   "source": [
    "Same features are removed for testing set since the data will be used to train the model"
   ]
  },
  {
   "cell_type": "code",
   "execution_count": 46,
   "id": "efad8c0f-141e-4445-bbac-4fccf11f05df",
   "metadata": {},
   "outputs": [],
   "source": [
    "dataTest.drop(['number_of_maintenance', 'duration_listed', 'engine_type','is_exchangeable'], axis = 1, inplace = True)"
   ]
  },
  {
   "cell_type": "code",
   "execution_count": 47,
   "id": "8f716b36-7161-476a-b271-6376f4d75607",
   "metadata": {},
   "outputs": [
    {
     "data": {
      "text/plain": [
       "(49985, 13)"
      ]
     },
     "execution_count": 47,
     "metadata": {},
     "output_type": "execute_result"
    }
   ],
   "source": [
    "dataTrain.shape\n"
   ]
  },
  {
   "cell_type": "code",
   "execution_count": 48,
   "id": "2c82c8b9-e4f8-4f6a-aae0-600be98ff9af",
   "metadata": {},
   "outputs": [
    {
     "data": {
      "text/plain": [
       "(26995, 13)"
      ]
     },
     "execution_count": 48,
     "metadata": {},
     "output_type": "execute_result"
    }
   ],
   "source": [
    "dataTest.shape"
   ]
  },
  {
   "cell_type": "markdown",
   "id": "b3a634b9",
   "metadata": {},
   "source": [
    "### Data Transformation\n",
    "Label encoding of categorical features in the training set. Label encoding is converting categorical data into numerical data since the model cant understand textual data."
   ]
  },
  {
   "cell_type": "markdown",
   "id": "5e422f91-b378-40d7-8016-de92ec2203c6",
   "metadata": {},
   "source": [
    "----Data Preparation--------"
   ]
  },
  {
   "cell_type": "code",
   "execution_count": 51,
   "id": "12f3abc7",
   "metadata": {},
   "outputs": [],
   "source": [
    "from sklearn.preprocessing import LabelEncoder\n",
    "\n",
    "labelencoder = LabelEncoder()\n",
    "dataTrain.manufacturer_name = labelencoder.fit_transform(dataTrain.manufacturer_name)\n",
    "dataTrain.transmission = labelencoder.fit_transform(dataTrain.transmission)\n",
    "dataTrain.color = labelencoder.fit_transform(dataTrain.color)\n",
    "dataTrain.engine_fuel = labelencoder.fit_transform(dataTrain.engine_fuel)\n",
    "\n",
    "dataTrain.body_type = labelencoder.fit_transform(dataTrain.body_type)\n",
    "dataTrain.has_warranty = labelencoder.fit_transform(dataTrain.has_warranty)\n",
    "dataTrain.ownership = labelencoder.fit_transform(dataTrain.ownership)\n",
    "dataTrain.type_of_drive = labelencoder.fit_transform(dataTrain.type_of_drive)\n"
   ]
  },
  {
   "cell_type": "markdown",
   "id": "df7adffb",
   "metadata": {},
   "source": [
    "Label encoding of all categorical data in the testing set."
   ]
  },
  {
   "cell_type": "code",
   "execution_count": 52,
   "id": "62f042d0",
   "metadata": {},
   "outputs": [],
   "source": [
    "labelencoder1 = LabelEncoder()\n",
    "dataTest.manufacturer_name = labelencoder1.fit_transform(dataTest.manufacturer_name)\n",
    "dataTest.transmission = labelencoder1.fit_transform(dataTest.transmission)\n",
    "dataTest.color = labelencoder1.fit_transform(dataTest.color)\n",
    "dataTest.engine_fuel = labelencoder1.fit_transform(dataTest.engine_fuel)\n",
    "\n",
    "dataTest.body_type = labelencoder1.fit_transform(dataTest.body_type)\n",
    "dataTest.has_warranty = labelencoder1.fit_transform(dataTest.has_warranty)\n",
    "dataTest.ownership = labelencoder1.fit_transform(dataTest.ownership)\n",
    "dataTest.type_of_drive = labelencoder1.fit_transform(dataTest.type_of_drive)\n"
   ]
  },
  {
   "cell_type": "markdown",
   "id": "8b037815",
   "metadata": {},
   "source": [
    "Checking on the remaining features and if label encoding is applied to all categorical features (Training set)."
   ]
  },
  {
   "cell_type": "code",
   "execution_count": 53,
   "id": "576813a7",
   "metadata": {},
   "outputs": [
    {
     "data": {
      "text/html": [
       "<div>\n",
       "<style scoped>\n",
       "    .dataframe tbody tr th:only-of-type {\n",
       "        vertical-align: middle;\n",
       "    }\n",
       "\n",
       "    .dataframe tbody tr th {\n",
       "        vertical-align: top;\n",
       "    }\n",
       "\n",
       "    .dataframe thead th {\n",
       "        text-align: right;\n",
       "    }\n",
       "</style>\n",
       "<table border=\"1\" class=\"dataframe\">\n",
       "  <thead>\n",
       "    <tr style=\"text-align: right;\">\n",
       "      <th></th>\n",
       "      <th>manufacturer_name</th>\n",
       "      <th>transmission</th>\n",
       "      <th>color</th>\n",
       "      <th>odometer_value</th>\n",
       "      <th>year_produced</th>\n",
       "      <th>engine_fuel</th>\n",
       "      <th>engine_capacity</th>\n",
       "      <th>body_type</th>\n",
       "      <th>has_warranty</th>\n",
       "      <th>ownership</th>\n",
       "      <th>type_of_drive</th>\n",
       "      <th>number_of_photos</th>\n",
       "      <th>price_usd</th>\n",
       "    </tr>\n",
       "  </thead>\n",
       "  <tbody>\n",
       "    <tr>\n",
       "      <th>0</th>\n",
       "      <td>48</td>\n",
       "      <td>0</td>\n",
       "      <td>0</td>\n",
       "      <td>130000</td>\n",
       "      <td>2016</td>\n",
       "      <td>0</td>\n",
       "      <td>1.6</td>\n",
       "      <td>10</td>\n",
       "      <td>0</td>\n",
       "      <td>2</td>\n",
       "      <td>1</td>\n",
       "      <td>17</td>\n",
       "      <td>13150.0</td>\n",
       "    </tr>\n",
       "    <tr>\n",
       "      <th>1</th>\n",
       "      <td>39</td>\n",
       "      <td>1</td>\n",
       "      <td>2</td>\n",
       "      <td>149000</td>\n",
       "      <td>2012</td>\n",
       "      <td>2</td>\n",
       "      <td>1.6</td>\n",
       "      <td>8</td>\n",
       "      <td>0</td>\n",
       "      <td>2</td>\n",
       "      <td>1</td>\n",
       "      <td>9</td>\n",
       "      <td>7500.0</td>\n",
       "    </tr>\n",
       "    <tr>\n",
       "      <th>2</th>\n",
       "      <td>23</td>\n",
       "      <td>0</td>\n",
       "      <td>2</td>\n",
       "      <td>110000</td>\n",
       "      <td>2014</td>\n",
       "      <td>2</td>\n",
       "      <td>1.6</td>\n",
       "      <td>2</td>\n",
       "      <td>0</td>\n",
       "      <td>2</td>\n",
       "      <td>1</td>\n",
       "      <td>5</td>\n",
       "      <td>12200.0</td>\n",
       "    </tr>\n",
       "    <tr>\n",
       "      <th>3</th>\n",
       "      <td>35</td>\n",
       "      <td>0</td>\n",
       "      <td>6</td>\n",
       "      <td>255100</td>\n",
       "      <td>2007</td>\n",
       "      <td>2</td>\n",
       "      <td>1.8</td>\n",
       "      <td>2</td>\n",
       "      <td>0</td>\n",
       "      <td>2</td>\n",
       "      <td>1</td>\n",
       "      <td>10</td>\n",
       "      <td>4950.0</td>\n",
       "    </tr>\n",
       "    <tr>\n",
       "      <th>4</th>\n",
       "      <td>30</td>\n",
       "      <td>1</td>\n",
       "      <td>1</td>\n",
       "      <td>650000</td>\n",
       "      <td>1999</td>\n",
       "      <td>2</td>\n",
       "      <td>2.0</td>\n",
       "      <td>8</td>\n",
       "      <td>0</td>\n",
       "      <td>2</td>\n",
       "      <td>1</td>\n",
       "      <td>5</td>\n",
       "      <td>3000.0</td>\n",
       "    </tr>\n",
       "    <tr>\n",
       "      <th>5</th>\n",
       "      <td>35</td>\n",
       "      <td>0</td>\n",
       "      <td>8</td>\n",
       "      <td>368632</td>\n",
       "      <td>2000</td>\n",
       "      <td>0</td>\n",
       "      <td>2.2</td>\n",
       "      <td>9</td>\n",
       "      <td>0</td>\n",
       "      <td>2</td>\n",
       "      <td>2</td>\n",
       "      <td>5</td>\n",
       "      <td>3999.0</td>\n",
       "    </tr>\n",
       "    <tr>\n",
       "      <th>6</th>\n",
       "      <td>39</td>\n",
       "      <td>1</td>\n",
       "      <td>7</td>\n",
       "      <td>367000</td>\n",
       "      <td>1997</td>\n",
       "      <td>2</td>\n",
       "      <td>1.4</td>\n",
       "      <td>8</td>\n",
       "      <td>0</td>\n",
       "      <td>2</td>\n",
       "      <td>1</td>\n",
       "      <td>6</td>\n",
       "      <td>940.0</td>\n",
       "    </tr>\n",
       "    <tr>\n",
       "      <th>7</th>\n",
       "      <td>18</td>\n",
       "      <td>0</td>\n",
       "      <td>10</td>\n",
       "      <td>135000</td>\n",
       "      <td>2012</td>\n",
       "      <td>2</td>\n",
       "      <td>2.0</td>\n",
       "      <td>8</td>\n",
       "      <td>0</td>\n",
       "      <td>2</td>\n",
       "      <td>1</td>\n",
       "      <td>7</td>\n",
       "      <td>11500.0</td>\n",
       "    </tr>\n",
       "    <tr>\n",
       "      <th>8</th>\n",
       "      <td>33</td>\n",
       "      <td>0</td>\n",
       "      <td>8</td>\n",
       "      <td>200800</td>\n",
       "      <td>2004</td>\n",
       "      <td>2</td>\n",
       "      <td>2.4</td>\n",
       "      <td>9</td>\n",
       "      <td>0</td>\n",
       "      <td>2</td>\n",
       "      <td>0</td>\n",
       "      <td>16</td>\n",
       "      <td>5850.0</td>\n",
       "    </tr>\n",
       "    <tr>\n",
       "      <th>9</th>\n",
       "      <td>9</td>\n",
       "      <td>1</td>\n",
       "      <td>8</td>\n",
       "      <td>300000</td>\n",
       "      <td>1997</td>\n",
       "      <td>2</td>\n",
       "      <td>1.8</td>\n",
       "      <td>2</td>\n",
       "      <td>0</td>\n",
       "      <td>2</td>\n",
       "      <td>1</td>\n",
       "      <td>3</td>\n",
       "      <td>700.0</td>\n",
       "    </tr>\n",
       "  </tbody>\n",
       "</table>\n",
       "</div>"
      ],
      "text/plain": [
       "   manufacturer_name  transmission  color  odometer_value  year_produced  \\\n",
       "0                 48             0      0          130000           2016   \n",
       "1                 39             1      2          149000           2012   \n",
       "2                 23             0      2          110000           2014   \n",
       "3                 35             0      6          255100           2007   \n",
       "4                 30             1      1          650000           1999   \n",
       "5                 35             0      8          368632           2000   \n",
       "6                 39             1      7          367000           1997   \n",
       "7                 18             0     10          135000           2012   \n",
       "8                 33             0      8          200800           2004   \n",
       "9                  9             1      8          300000           1997   \n",
       "\n",
       "   engine_fuel  engine_capacity  body_type  has_warranty  ownership  \\\n",
       "0            0              1.6         10             0          2   \n",
       "1            2              1.6          8             0          2   \n",
       "2            2              1.6          2             0          2   \n",
       "3            2              1.8          2             0          2   \n",
       "4            2              2.0          8             0          2   \n",
       "5            0              2.2          9             0          2   \n",
       "6            2              1.4          8             0          2   \n",
       "7            2              2.0          8             0          2   \n",
       "8            2              2.4          9             0          2   \n",
       "9            2              1.8          2             0          2   \n",
       "\n",
       "   type_of_drive  number_of_photos  price_usd  \n",
       "0              1                17    13150.0  \n",
       "1              1                 9     7500.0  \n",
       "2              1                 5    12200.0  \n",
       "3              1                10     4950.0  \n",
       "4              1                 5     3000.0  \n",
       "5              2                 5     3999.0  \n",
       "6              1                 6      940.0  \n",
       "7              1                 7    11500.0  \n",
       "8              0                16     5850.0  \n",
       "9              1                 3      700.0  "
      ]
     },
     "execution_count": 53,
     "metadata": {},
     "output_type": "execute_result"
    }
   ],
   "source": [
    "dataTrain.head(10)"
   ]
  },
  {
   "cell_type": "markdown",
   "id": "2c90faa6",
   "metadata": {},
   "source": [
    "Check on the remaining features and application of label encoding to all categorical features (Testing set)."
   ]
  },
  {
   "cell_type": "code",
   "execution_count": 54,
   "id": "aadb0662",
   "metadata": {},
   "outputs": [
    {
     "data": {
      "text/html": [
       "<div>\n",
       "<style scoped>\n",
       "    .dataframe tbody tr th:only-of-type {\n",
       "        vertical-align: middle;\n",
       "    }\n",
       "\n",
       "    .dataframe tbody tr th {\n",
       "        vertical-align: top;\n",
       "    }\n",
       "\n",
       "    .dataframe thead th {\n",
       "        text-align: right;\n",
       "    }\n",
       "</style>\n",
       "<table border=\"1\" class=\"dataframe\">\n",
       "  <thead>\n",
       "    <tr style=\"text-align: right;\">\n",
       "      <th></th>\n",
       "      <th>manufacturer_name</th>\n",
       "      <th>transmission</th>\n",
       "      <th>color</th>\n",
       "      <th>odometer_value</th>\n",
       "      <th>year_produced</th>\n",
       "      <th>engine_fuel</th>\n",
       "      <th>engine_capacity</th>\n",
       "      <th>body_type</th>\n",
       "      <th>has_warranty</th>\n",
       "      <th>ownership</th>\n",
       "      <th>type_of_drive</th>\n",
       "      <th>number_of_photos</th>\n",
       "      <th>price_usd</th>\n",
       "    </tr>\n",
       "  </thead>\n",
       "  <tbody>\n",
       "    <tr>\n",
       "      <th>0</th>\n",
       "      <td>3</td>\n",
       "      <td>0</td>\n",
       "      <td>10</td>\n",
       "      <td>115000</td>\n",
       "      <td>2012</td>\n",
       "      <td>2</td>\n",
       "      <td>4.4</td>\n",
       "      <td>8</td>\n",
       "      <td>0</td>\n",
       "      <td>2</td>\n",
       "      <td>0</td>\n",
       "      <td>32</td>\n",
       "      <td>20450.00</td>\n",
       "    </tr>\n",
       "    <tr>\n",
       "      <th>1</th>\n",
       "      <td>31</td>\n",
       "      <td>1</td>\n",
       "      <td>6</td>\n",
       "      <td>500000</td>\n",
       "      <td>1999</td>\n",
       "      <td>0</td>\n",
       "      <td>2.2</td>\n",
       "      <td>8</td>\n",
       "      <td>0</td>\n",
       "      <td>2</td>\n",
       "      <td>2</td>\n",
       "      <td>7</td>\n",
       "      <td>2600.00</td>\n",
       "    </tr>\n",
       "    <tr>\n",
       "      <th>2</th>\n",
       "      <td>13</td>\n",
       "      <td>1</td>\n",
       "      <td>8</td>\n",
       "      <td>210000</td>\n",
       "      <td>2002</td>\n",
       "      <td>2</td>\n",
       "      <td>1.2</td>\n",
       "      <td>2</td>\n",
       "      <td>0</td>\n",
       "      <td>2</td>\n",
       "      <td>1</td>\n",
       "      <td>16</td>\n",
       "      <td>2900.00</td>\n",
       "    </tr>\n",
       "    <tr>\n",
       "      <th>3</th>\n",
       "      <td>33</td>\n",
       "      <td>0</td>\n",
       "      <td>9</td>\n",
       "      <td>294000</td>\n",
       "      <td>2000</td>\n",
       "      <td>0</td>\n",
       "      <td>3.2</td>\n",
       "      <td>9</td>\n",
       "      <td>0</td>\n",
       "      <td>2</td>\n",
       "      <td>0</td>\n",
       "      <td>10</td>\n",
       "      <td>7500.00</td>\n",
       "    </tr>\n",
       "    <tr>\n",
       "      <th>4</th>\n",
       "      <td>35</td>\n",
       "      <td>0</td>\n",
       "      <td>1</td>\n",
       "      <td>244000</td>\n",
       "      <td>1998</td>\n",
       "      <td>2</td>\n",
       "      <td>1.6</td>\n",
       "      <td>8</td>\n",
       "      <td>0</td>\n",
       "      <td>2</td>\n",
       "      <td>1</td>\n",
       "      <td>9</td>\n",
       "      <td>2200.00</td>\n",
       "    </tr>\n",
       "    <tr>\n",
       "      <th>5</th>\n",
       "      <td>47</td>\n",
       "      <td>1</td>\n",
       "      <td>8</td>\n",
       "      <td>330000</td>\n",
       "      <td>2002</td>\n",
       "      <td>2</td>\n",
       "      <td>1.6</td>\n",
       "      <td>6</td>\n",
       "      <td>0</td>\n",
       "      <td>2</td>\n",
       "      <td>1</td>\n",
       "      <td>7</td>\n",
       "      <td>4500.00</td>\n",
       "    </tr>\n",
       "    <tr>\n",
       "      <th>6</th>\n",
       "      <td>43</td>\n",
       "      <td>0</td>\n",
       "      <td>3</td>\n",
       "      <td>0</td>\n",
       "      <td>2019</td>\n",
       "      <td>2</td>\n",
       "      <td>1.4</td>\n",
       "      <td>9</td>\n",
       "      <td>1</td>\n",
       "      <td>1</td>\n",
       "      <td>1</td>\n",
       "      <td>15</td>\n",
       "      <td>27412.98</td>\n",
       "    </tr>\n",
       "    <tr>\n",
       "      <th>7</th>\n",
       "      <td>13</td>\n",
       "      <td>1</td>\n",
       "      <td>4</td>\n",
       "      <td>233000</td>\n",
       "      <td>1996</td>\n",
       "      <td>2</td>\n",
       "      <td>1.6</td>\n",
       "      <td>2</td>\n",
       "      <td>0</td>\n",
       "      <td>2</td>\n",
       "      <td>1</td>\n",
       "      <td>5</td>\n",
       "      <td>850.00</td>\n",
       "    </tr>\n",
       "    <tr>\n",
       "      <th>8</th>\n",
       "      <td>40</td>\n",
       "      <td>1</td>\n",
       "      <td>1</td>\n",
       "      <td>270000</td>\n",
       "      <td>2000</td>\n",
       "      <td>2</td>\n",
       "      <td>1.8</td>\n",
       "      <td>8</td>\n",
       "      <td>0</td>\n",
       "      <td>2</td>\n",
       "      <td>1</td>\n",
       "      <td>9</td>\n",
       "      <td>2300.00</td>\n",
       "    </tr>\n",
       "    <tr>\n",
       "      <th>9</th>\n",
       "      <td>48</td>\n",
       "      <td>1</td>\n",
       "      <td>1</td>\n",
       "      <td>1000000</td>\n",
       "      <td>1990</td>\n",
       "      <td>0</td>\n",
       "      <td>1.9</td>\n",
       "      <td>5</td>\n",
       "      <td>0</td>\n",
       "      <td>2</td>\n",
       "      <td>2</td>\n",
       "      <td>3</td>\n",
       "      <td>3000.00</td>\n",
       "    </tr>\n",
       "  </tbody>\n",
       "</table>\n",
       "</div>"
      ],
      "text/plain": [
       "   manufacturer_name  transmission  color  odometer_value  year_produced  \\\n",
       "0                  3             0     10          115000           2012   \n",
       "1                 31             1      6          500000           1999   \n",
       "2                 13             1      8          210000           2002   \n",
       "3                 33             0      9          294000           2000   \n",
       "4                 35             0      1          244000           1998   \n",
       "5                 47             1      8          330000           2002   \n",
       "6                 43             0      3               0           2019   \n",
       "7                 13             1      4          233000           1996   \n",
       "8                 40             1      1          270000           2000   \n",
       "9                 48             1      1         1000000           1990   \n",
       "\n",
       "   engine_fuel  engine_capacity  body_type  has_warranty  ownership  \\\n",
       "0            2              4.4          8             0          2   \n",
       "1            0              2.2          8             0          2   \n",
       "2            2              1.2          2             0          2   \n",
       "3            0              3.2          9             0          2   \n",
       "4            2              1.6          8             0          2   \n",
       "5            2              1.6          6             0          2   \n",
       "6            2              1.4          9             1          1   \n",
       "7            2              1.6          2             0          2   \n",
       "8            2              1.8          8             0          2   \n",
       "9            0              1.9          5             0          2   \n",
       "\n",
       "   type_of_drive  number_of_photos  price_usd  \n",
       "0              0                32   20450.00  \n",
       "1              2                 7    2600.00  \n",
       "2              1                16    2900.00  \n",
       "3              0                10    7500.00  \n",
       "4              1                 9    2200.00  \n",
       "5              1                 7    4500.00  \n",
       "6              1                15   27412.98  \n",
       "7              1                 5     850.00  \n",
       "8              1                 9    2300.00  \n",
       "9              2                 3    3000.00  "
      ]
     },
     "execution_count": 54,
     "metadata": {},
     "output_type": "execute_result"
    }
   ],
   "source": [
    "dataTest.head(10)"
   ]
  },
  {
   "cell_type": "markdown",
   "id": "a089e79c",
   "metadata": {},
   "source": [
    "--Data Transfornation (normalization) ----\n",
    "z-score used for scaling down the features between the range of -1 and 1. This helps the model make better prediction as it is easy to understand. The scaling is applied to the training and testing set  --- You can try using min-max normalization also"
   ]
  },
  {
   "cell_type": "code",
   "execution_count": 55,
   "id": "a2bf8c64-37b5-436b-ab4a-b96250caa169",
   "metadata": {},
   "outputs": [],
   "source": [
    "# Calculate the z-score from with scipy\n",
    "import scipy.stats as stats\n",
    "dataTrain = stats.zscore(dataTrain)\n",
    "dataTest = stats.zscore(dataTest)"
   ]
  },
  {
   "cell_type": "code",
   "execution_count": 56,
   "id": "0268ef49-88ee-4904-9b0c-08f6a7aa81db",
   "metadata": {},
   "outputs": [
    {
     "data": {
      "text/html": [
       "<div>\n",
       "<style scoped>\n",
       "    .dataframe tbody tr th:only-of-type {\n",
       "        vertical-align: middle;\n",
       "    }\n",
       "\n",
       "    .dataframe tbody tr th {\n",
       "        vertical-align: top;\n",
       "    }\n",
       "\n",
       "    .dataframe thead th {\n",
       "        text-align: right;\n",
       "    }\n",
       "</style>\n",
       "<table border=\"1\" class=\"dataframe\">\n",
       "  <thead>\n",
       "    <tr style=\"text-align: right;\">\n",
       "      <th></th>\n",
       "      <th>manufacturer_name</th>\n",
       "      <th>transmission</th>\n",
       "      <th>color</th>\n",
       "      <th>odometer_value</th>\n",
       "      <th>year_produced</th>\n",
       "      <th>engine_fuel</th>\n",
       "      <th>engine_capacity</th>\n",
       "      <th>body_type</th>\n",
       "      <th>has_warranty</th>\n",
       "      <th>ownership</th>\n",
       "      <th>type_of_drive</th>\n",
       "      <th>number_of_photos</th>\n",
       "      <th>price_usd</th>\n",
       "    </tr>\n",
       "  </thead>\n",
       "  <tbody>\n",
       "    <tr>\n",
       "      <th>0</th>\n",
       "      <td>1.280871</td>\n",
       "      <td>-1.411269</td>\n",
       "      <td>-1.252177</td>\n",
       "      <td>-0.874833</td>\n",
       "      <td>1.618931</td>\n",
       "      <td>-1.367799</td>\n",
       "      <td>-0.676781</td>\n",
       "      <td>1.095981</td>\n",
       "      <td>-0.107496</td>\n",
       "      <td>0.138074</td>\n",
       "      <td>-0.000076</td>\n",
       "      <td>1.194379</td>\n",
       "      <td>1.005611</td>\n",
       "    </tr>\n",
       "    <tr>\n",
       "      <th>1</th>\n",
       "      <td>0.715138</td>\n",
       "      <td>0.708582</td>\n",
       "      <td>-0.695729</td>\n",
       "      <td>-0.735477</td>\n",
       "      <td>1.123006</td>\n",
       "      <td>0.718575</td>\n",
       "      <td>-0.676781</td>\n",
       "      <td>0.412761</td>\n",
       "      <td>-0.107496</td>\n",
       "      <td>0.138074</td>\n",
       "      <td>-0.000076</td>\n",
       "      <td>-0.107566</td>\n",
       "      <td>0.130830</td>\n",
       "    </tr>\n",
       "    <tr>\n",
       "      <th>2</th>\n",
       "      <td>-0.290610</td>\n",
       "      <td>-1.411269</td>\n",
       "      <td>-0.695729</td>\n",
       "      <td>-1.021524</td>\n",
       "      <td>1.370968</td>\n",
       "      <td>0.718575</td>\n",
       "      <td>-0.676781</td>\n",
       "      <td>-1.636898</td>\n",
       "      <td>-0.107496</td>\n",
       "      <td>0.138074</td>\n",
       "      <td>-0.000076</td>\n",
       "      <td>-0.758539</td>\n",
       "      <td>0.858524</td>\n",
       "    </tr>\n",
       "    <tr>\n",
       "      <th>3</th>\n",
       "      <td>0.463701</td>\n",
       "      <td>-1.411269</td>\n",
       "      <td>0.417166</td>\n",
       "      <td>0.042718</td>\n",
       "      <td>0.503099</td>\n",
       "      <td>0.718575</td>\n",
       "      <td>-0.380528</td>\n",
       "      <td>-1.636898</td>\n",
       "      <td>-0.107496</td>\n",
       "      <td>0.138074</td>\n",
       "      <td>-0.000076</td>\n",
       "      <td>0.055177</td>\n",
       "      <td>-0.263983</td>\n",
       "    </tr>\n",
       "    <tr>\n",
       "      <th>4</th>\n",
       "      <td>0.149405</td>\n",
       "      <td>0.708582</td>\n",
       "      <td>-0.973953</td>\n",
       "      <td>2.939129</td>\n",
       "      <td>-0.488752</td>\n",
       "      <td>0.718575</td>\n",
       "      <td>-0.084275</td>\n",
       "      <td>0.412761</td>\n",
       "      <td>-0.107496</td>\n",
       "      <td>0.138074</td>\n",
       "      <td>-0.000076</td>\n",
       "      <td>-0.758539</td>\n",
       "      <td>-0.565899</td>\n",
       "    </tr>\n",
       "    <tr>\n",
       "      <th>...</th>\n",
       "      <td>...</td>\n",
       "      <td>...</td>\n",
       "      <td>...</td>\n",
       "      <td>...</td>\n",
       "      <td>...</td>\n",
       "      <td>...</td>\n",
       "      <td>...</td>\n",
       "      <td>...</td>\n",
       "      <td>...</td>\n",
       "      <td>...</td>\n",
       "      <td>...</td>\n",
       "      <td>...</td>\n",
       "      <td>...</td>\n",
       "    </tr>\n",
       "    <tr>\n",
       "      <th>49995</th>\n",
       "      <td>0.463701</td>\n",
       "      <td>0.708582</td>\n",
       "      <td>1.530061</td>\n",
       "      <td>0.958803</td>\n",
       "      <td>-0.860696</td>\n",
       "      <td>0.718575</td>\n",
       "      <td>-0.676781</td>\n",
       "      <td>0.412761</td>\n",
       "      <td>-0.107496</td>\n",
       "      <td>0.138074</td>\n",
       "      <td>-0.000076</td>\n",
       "      <td>-1.246769</td>\n",
       "      <td>-0.488484</td>\n",
       "    </tr>\n",
       "    <tr>\n",
       "      <th>49996</th>\n",
       "      <td>1.280871</td>\n",
       "      <td>0.708582</td>\n",
       "      <td>-0.417505</td>\n",
       "      <td>0.454281</td>\n",
       "      <td>-1.108659</td>\n",
       "      <td>-0.324612</td>\n",
       "      <td>-0.380528</td>\n",
       "      <td>1.095981</td>\n",
       "      <td>-0.107496</td>\n",
       "      <td>0.138074</td>\n",
       "      <td>-0.000076</td>\n",
       "      <td>0.868893</td>\n",
       "      <td>-0.589123</td>\n",
       "    </tr>\n",
       "    <tr>\n",
       "      <th>49997</th>\n",
       "      <td>-0.919202</td>\n",
       "      <td>0.708582</td>\n",
       "      <td>0.695390</td>\n",
       "      <td>0.005312</td>\n",
       "      <td>-0.488752</td>\n",
       "      <td>0.718575</td>\n",
       "      <td>-0.380528</td>\n",
       "      <td>-1.978507</td>\n",
       "      <td>-0.107496</td>\n",
       "      <td>0.138074</td>\n",
       "      <td>-0.000076</td>\n",
       "      <td>-0.433053</td>\n",
       "      <td>-0.720727</td>\n",
       "    </tr>\n",
       "    <tr>\n",
       "      <th>49998</th>\n",
       "      <td>-1.547795</td>\n",
       "      <td>-1.411269</td>\n",
       "      <td>-0.139282</td>\n",
       "      <td>2.682420</td>\n",
       "      <td>-0.612734</td>\n",
       "      <td>-1.367799</td>\n",
       "      <td>0.656356</td>\n",
       "      <td>1.095981</td>\n",
       "      <td>-0.107496</td>\n",
       "      <td>0.138074</td>\n",
       "      <td>1.890544</td>\n",
       "      <td>0.055177</td>\n",
       "      <td>-0.243855</td>\n",
       "    </tr>\n",
       "    <tr>\n",
       "      <th>49999</th>\n",
       "      <td>1.343730</td>\n",
       "      <td>-1.411269</td>\n",
       "      <td>0.417166</td>\n",
       "      <td>1.728930</td>\n",
       "      <td>-0.116808</td>\n",
       "      <td>-1.367799</td>\n",
       "      <td>0.508230</td>\n",
       "      <td>0.412761</td>\n",
       "      <td>-0.107496</td>\n",
       "      <td>0.138074</td>\n",
       "      <td>-0.000076</td>\n",
       "      <td>-0.595796</td>\n",
       "      <td>0.022450</td>\n",
       "    </tr>\n",
       "  </tbody>\n",
       "</table>\n",
       "<p>49985 rows × 13 columns</p>\n",
       "</div>"
      ],
      "text/plain": [
       "       manufacturer_name  transmission     color  odometer_value  \\\n",
       "0               1.280871     -1.411269 -1.252177       -0.874833   \n",
       "1               0.715138      0.708582 -0.695729       -0.735477   \n",
       "2              -0.290610     -1.411269 -0.695729       -1.021524   \n",
       "3               0.463701     -1.411269  0.417166        0.042718   \n",
       "4               0.149405      0.708582 -0.973953        2.939129   \n",
       "...                  ...           ...       ...             ...   \n",
       "49995           0.463701      0.708582  1.530061        0.958803   \n",
       "49996           1.280871      0.708582 -0.417505        0.454281   \n",
       "49997          -0.919202      0.708582  0.695390        0.005312   \n",
       "49998          -1.547795     -1.411269 -0.139282        2.682420   \n",
       "49999           1.343730     -1.411269  0.417166        1.728930   \n",
       "\n",
       "       year_produced  engine_fuel  engine_capacity  body_type  has_warranty  \\\n",
       "0           1.618931    -1.367799        -0.676781   1.095981     -0.107496   \n",
       "1           1.123006     0.718575        -0.676781   0.412761     -0.107496   \n",
       "2           1.370968     0.718575        -0.676781  -1.636898     -0.107496   \n",
       "3           0.503099     0.718575        -0.380528  -1.636898     -0.107496   \n",
       "4          -0.488752     0.718575        -0.084275   0.412761     -0.107496   \n",
       "...              ...          ...              ...        ...           ...   \n",
       "49995      -0.860696     0.718575        -0.676781   0.412761     -0.107496   \n",
       "49996      -1.108659    -0.324612        -0.380528   1.095981     -0.107496   \n",
       "49997      -0.488752     0.718575        -0.380528  -1.978507     -0.107496   \n",
       "49998      -0.612734    -1.367799         0.656356   1.095981     -0.107496   \n",
       "49999      -0.116808    -1.367799         0.508230   0.412761     -0.107496   \n",
       "\n",
       "       ownership  type_of_drive  number_of_photos  price_usd  \n",
       "0       0.138074      -0.000076          1.194379   1.005611  \n",
       "1       0.138074      -0.000076         -0.107566   0.130830  \n",
       "2       0.138074      -0.000076         -0.758539   0.858524  \n",
       "3       0.138074      -0.000076          0.055177  -0.263983  \n",
       "4       0.138074      -0.000076         -0.758539  -0.565899  \n",
       "...          ...            ...               ...        ...  \n",
       "49995   0.138074      -0.000076         -1.246769  -0.488484  \n",
       "49996   0.138074      -0.000076          0.868893  -0.589123  \n",
       "49997   0.138074      -0.000076         -0.433053  -0.720727  \n",
       "49998   0.138074       1.890544          0.055177  -0.243855  \n",
       "49999   0.138074      -0.000076         -0.595796   0.022450  \n",
       "\n",
       "[49985 rows x 13 columns]"
      ]
     },
     "execution_count": 56,
     "metadata": {},
     "output_type": "execute_result"
    }
   ],
   "source": [
    "dataTrain"
   ]
  },
  {
   "cell_type": "code",
   "execution_count": 57,
   "id": "582fc4b9-e299-418c-9ea0-f6086ac74f37",
   "metadata": {},
   "outputs": [
    {
     "data": {
      "text/html": [
       "<div>\n",
       "<style scoped>\n",
       "    .dataframe tbody tr th:only-of-type {\n",
       "        vertical-align: middle;\n",
       "    }\n",
       "\n",
       "    .dataframe tbody tr th {\n",
       "        vertical-align: top;\n",
       "    }\n",
       "\n",
       "    .dataframe thead th {\n",
       "        text-align: right;\n",
       "    }\n",
       "</style>\n",
       "<table border=\"1\" class=\"dataframe\">\n",
       "  <thead>\n",
       "    <tr style=\"text-align: right;\">\n",
       "      <th></th>\n",
       "      <th>manufacturer_name</th>\n",
       "      <th>transmission</th>\n",
       "      <th>color</th>\n",
       "      <th>odometer_value</th>\n",
       "      <th>year_produced</th>\n",
       "      <th>engine_fuel</th>\n",
       "      <th>engine_capacity</th>\n",
       "      <th>body_type</th>\n",
       "      <th>has_warranty</th>\n",
       "      <th>ownership</th>\n",
       "      <th>type_of_drive</th>\n",
       "      <th>number_of_photos</th>\n",
       "      <th>price_usd</th>\n",
       "    </tr>\n",
       "  </thead>\n",
       "  <tbody>\n",
       "    <tr>\n",
       "      <th>0</th>\n",
       "      <td>-1.560894</td>\n",
       "      <td>-1.409199</td>\n",
       "      <td>1.543088</td>\n",
       "      <td>-0.982904</td>\n",
       "      <td>1.124098</td>\n",
       "      <td>0.741569</td>\n",
       "      <td>3.536276</td>\n",
       "      <td>0.414205</td>\n",
       "      <td>-0.110733</td>\n",
       "      <td>0.139031</td>\n",
       "      <td>-1.890440</td>\n",
       "      <td>3.731328</td>\n",
       "      <td>2.176823</td>\n",
       "    </tr>\n",
       "    <tr>\n",
       "      <th>1</th>\n",
       "      <td>0.202193</td>\n",
       "      <td>0.709623</td>\n",
       "      <td>0.429561</td>\n",
       "      <td>1.856936</td>\n",
       "      <td>-0.488073</td>\n",
       "      <td>-1.375240</td>\n",
       "      <td>0.222862</td>\n",
       "      <td>0.414205</td>\n",
       "      <td>-0.110733</td>\n",
       "      <td>0.139031</td>\n",
       "      <td>1.887361</td>\n",
       "      <td>-0.437492</td>\n",
       "      <td>-0.630775</td>\n",
       "    </tr>\n",
       "    <tr>\n",
       "      <th>2</th>\n",
       "      <td>-0.931220</td>\n",
       "      <td>0.709623</td>\n",
       "      <td>0.986324</td>\n",
       "      <td>-0.282164</td>\n",
       "      <td>-0.116033</td>\n",
       "      <td>0.741569</td>\n",
       "      <td>-1.283235</td>\n",
       "      <td>-1.631869</td>\n",
       "      <td>-0.110733</td>\n",
       "      <td>0.139031</td>\n",
       "      <td>-0.001539</td>\n",
       "      <td>1.063283</td>\n",
       "      <td>-0.583589</td>\n",
       "    </tr>\n",
       "    <tr>\n",
       "      <th>3</th>\n",
       "      <td>0.328128</td>\n",
       "      <td>-1.409199</td>\n",
       "      <td>1.264706</td>\n",
       "      <td>0.337437</td>\n",
       "      <td>-0.364060</td>\n",
       "      <td>-1.375240</td>\n",
       "      <td>1.728960</td>\n",
       "      <td>0.755217</td>\n",
       "      <td>-0.110733</td>\n",
       "      <td>0.139031</td>\n",
       "      <td>-1.890440</td>\n",
       "      <td>0.062766</td>\n",
       "      <td>0.139938</td>\n",
       "    </tr>\n",
       "    <tr>\n",
       "      <th>4</th>\n",
       "      <td>0.454063</td>\n",
       "      <td>-1.409199</td>\n",
       "      <td>-0.962348</td>\n",
       "      <td>-0.031373</td>\n",
       "      <td>-0.612086</td>\n",
       "      <td>0.741569</td>\n",
       "      <td>-0.680796</td>\n",
       "      <td>0.414205</td>\n",
       "      <td>-0.110733</td>\n",
       "      <td>0.139031</td>\n",
       "      <td>-0.001539</td>\n",
       "      <td>-0.103987</td>\n",
       "      <td>-0.693690</td>\n",
       "    </tr>\n",
       "    <tr>\n",
       "      <th>...</th>\n",
       "      <td>...</td>\n",
       "      <td>...</td>\n",
       "      <td>...</td>\n",
       "      <td>...</td>\n",
       "      <td>...</td>\n",
       "      <td>...</td>\n",
       "      <td>...</td>\n",
       "      <td>...</td>\n",
       "      <td>...</td>\n",
       "      <td>...</td>\n",
       "      <td>...</td>\n",
       "      <td>...</td>\n",
       "      <td>...</td>\n",
       "    </tr>\n",
       "    <tr>\n",
       "      <th>26995</th>\n",
       "      <td>1.272639</td>\n",
       "      <td>0.709623</td>\n",
       "      <td>1.264706</td>\n",
       "      <td>-1.152557</td>\n",
       "      <td>-1.232151</td>\n",
       "      <td>0.741569</td>\n",
       "      <td>-0.078357</td>\n",
       "      <td>-1.631869</td>\n",
       "      <td>-0.110733</td>\n",
       "      <td>0.139031</td>\n",
       "      <td>-0.001539</td>\n",
       "      <td>0.563025</td>\n",
       "      <td>-0.515483</td>\n",
       "    </tr>\n",
       "    <tr>\n",
       "      <th>26996</th>\n",
       "      <td>-0.553416</td>\n",
       "      <td>-1.409199</td>\n",
       "      <td>0.986324</td>\n",
       "      <td>-0.834015</td>\n",
       "      <td>0.752058</td>\n",
       "      <td>-0.316835</td>\n",
       "      <td>2.180789</td>\n",
       "      <td>0.414205</td>\n",
       "      <td>-0.110733</td>\n",
       "      <td>0.139031</td>\n",
       "      <td>-1.890440</td>\n",
       "      <td>-0.270739</td>\n",
       "      <td>0.297227</td>\n",
       "    </tr>\n",
       "    <tr>\n",
       "      <th>26997</th>\n",
       "      <td>1.272639</td>\n",
       "      <td>0.709623</td>\n",
       "      <td>1.543088</td>\n",
       "      <td>1.488125</td>\n",
       "      <td>-1.232151</td>\n",
       "      <td>0.741569</td>\n",
       "      <td>-0.379577</td>\n",
       "      <td>0.414205</td>\n",
       "      <td>-0.110733</td>\n",
       "      <td>0.139031</td>\n",
       "      <td>-0.001539</td>\n",
       "      <td>-0.604245</td>\n",
       "      <td>-0.866708</td>\n",
       "    </tr>\n",
       "    <tr>\n",
       "      <th>26998</th>\n",
       "      <td>-1.623862</td>\n",
       "      <td>0.709623</td>\n",
       "      <td>-0.127203</td>\n",
       "      <td>0.197289</td>\n",
       "      <td>0.380019</td>\n",
       "      <td>0.741569</td>\n",
       "      <td>-0.078357</td>\n",
       "      <td>0.414205</td>\n",
       "      <td>-0.110733</td>\n",
       "      <td>0.139031</td>\n",
       "      <td>-0.001539</td>\n",
       "      <td>-0.437492</td>\n",
       "      <td>-0.048808</td>\n",
       "    </tr>\n",
       "    <tr>\n",
       "      <th>26999</th>\n",
       "      <td>1.272639</td>\n",
       "      <td>0.709623</td>\n",
       "      <td>0.707943</td>\n",
       "      <td>1.856936</td>\n",
       "      <td>-1.480178</td>\n",
       "      <td>-1.375240</td>\n",
       "      <td>-0.228967</td>\n",
       "      <td>-1.631869</td>\n",
       "      <td>-0.110733</td>\n",
       "      <td>0.139031</td>\n",
       "      <td>-0.001539</td>\n",
       "      <td>-0.103987</td>\n",
       "      <td>-0.795928</td>\n",
       "    </tr>\n",
       "  </tbody>\n",
       "</table>\n",
       "<p>26995 rows × 13 columns</p>\n",
       "</div>"
      ],
      "text/plain": [
       "       manufacturer_name  transmission     color  odometer_value  \\\n",
       "0              -1.560894     -1.409199  1.543088       -0.982904   \n",
       "1               0.202193      0.709623  0.429561        1.856936   \n",
       "2              -0.931220      0.709623  0.986324       -0.282164   \n",
       "3               0.328128     -1.409199  1.264706        0.337437   \n",
       "4               0.454063     -1.409199 -0.962348       -0.031373   \n",
       "...                  ...           ...       ...             ...   \n",
       "26995           1.272639      0.709623  1.264706       -1.152557   \n",
       "26996          -0.553416     -1.409199  0.986324       -0.834015   \n",
       "26997           1.272639      0.709623  1.543088        1.488125   \n",
       "26998          -1.623862      0.709623 -0.127203        0.197289   \n",
       "26999           1.272639      0.709623  0.707943        1.856936   \n",
       "\n",
       "       year_produced  engine_fuel  engine_capacity  body_type  has_warranty  \\\n",
       "0           1.124098     0.741569         3.536276   0.414205     -0.110733   \n",
       "1          -0.488073    -1.375240         0.222862   0.414205     -0.110733   \n",
       "2          -0.116033     0.741569        -1.283235  -1.631869     -0.110733   \n",
       "3          -0.364060    -1.375240         1.728960   0.755217     -0.110733   \n",
       "4          -0.612086     0.741569        -0.680796   0.414205     -0.110733   \n",
       "...              ...          ...              ...        ...           ...   \n",
       "26995      -1.232151     0.741569        -0.078357  -1.631869     -0.110733   \n",
       "26996       0.752058    -0.316835         2.180789   0.414205     -0.110733   \n",
       "26997      -1.232151     0.741569        -0.379577   0.414205     -0.110733   \n",
       "26998       0.380019     0.741569        -0.078357   0.414205     -0.110733   \n",
       "26999      -1.480178    -1.375240        -0.228967  -1.631869     -0.110733   \n",
       "\n",
       "       ownership  type_of_drive  number_of_photos  price_usd  \n",
       "0       0.139031      -1.890440          3.731328   2.176823  \n",
       "1       0.139031       1.887361         -0.437492  -0.630775  \n",
       "2       0.139031      -0.001539          1.063283  -0.583589  \n",
       "3       0.139031      -1.890440          0.062766   0.139938  \n",
       "4       0.139031      -0.001539         -0.103987  -0.693690  \n",
       "...          ...            ...               ...        ...  \n",
       "26995   0.139031      -0.001539          0.563025  -0.515483  \n",
       "26996   0.139031      -1.890440         -0.270739   0.297227  \n",
       "26997   0.139031      -0.001539         -0.604245  -0.866708  \n",
       "26998   0.139031      -0.001539         -0.437492  -0.048808  \n",
       "26999   0.139031      -0.001539         -0.103987  -0.795928  \n",
       "\n",
       "[26995 rows x 13 columns]"
      ]
     },
     "execution_count": 57,
     "metadata": {},
     "output_type": "execute_result"
    }
   ],
   "source": [
    "dataTest"
   ]
  },
  {
   "cell_type": "markdown",
   "id": "e967422e",
   "metadata": {},
   "source": [
    "Dividing the data for training and testing accordingly. X takes the all features while Y takes the target variable\n",
    "\n",
    "We have 13 actual columns [0-12 index]; 12 are predictor variables and 1 is the target variable"
   ]
  },
  {
   "cell_type": "code",
   "execution_count": 58,
   "id": "09ee0d05",
   "metadata": {},
   "outputs": [],
   "source": [
    "x_train=dataTrain.iloc[:,0:11]\n",
    "y_train=dataTrain.iloc[:,12]\n",
    "x_test=dataTest.iloc[:,0:11]\n",
    "y_test=dataTest.iloc[:,12]"
   ]
  },
  {
   "cell_type": "code",
   "execution_count": 59,
   "id": "9a9d4c5b-4f6f-458a-954d-e5f39edc98b9",
   "metadata": {},
   "outputs": [
    {
     "data": {
      "text/html": [
       "<div>\n",
       "<style scoped>\n",
       "    .dataframe tbody tr th:only-of-type {\n",
       "        vertical-align: middle;\n",
       "    }\n",
       "\n",
       "    .dataframe tbody tr th {\n",
       "        vertical-align: top;\n",
       "    }\n",
       "\n",
       "    .dataframe thead th {\n",
       "        text-align: right;\n",
       "    }\n",
       "</style>\n",
       "<table border=\"1\" class=\"dataframe\">\n",
       "  <thead>\n",
       "    <tr style=\"text-align: right;\">\n",
       "      <th></th>\n",
       "      <th>manufacturer_name</th>\n",
       "      <th>transmission</th>\n",
       "      <th>color</th>\n",
       "      <th>odometer_value</th>\n",
       "      <th>year_produced</th>\n",
       "      <th>engine_fuel</th>\n",
       "      <th>engine_capacity</th>\n",
       "      <th>body_type</th>\n",
       "      <th>has_warranty</th>\n",
       "      <th>ownership</th>\n",
       "      <th>type_of_drive</th>\n",
       "    </tr>\n",
       "  </thead>\n",
       "  <tbody>\n",
       "    <tr>\n",
       "      <th>0</th>\n",
       "      <td>1.280871</td>\n",
       "      <td>-1.411269</td>\n",
       "      <td>-1.252177</td>\n",
       "      <td>-0.874833</td>\n",
       "      <td>1.618931</td>\n",
       "      <td>-1.367799</td>\n",
       "      <td>-0.676781</td>\n",
       "      <td>1.095981</td>\n",
       "      <td>-0.107496</td>\n",
       "      <td>0.138074</td>\n",
       "      <td>-0.000076</td>\n",
       "    </tr>\n",
       "    <tr>\n",
       "      <th>1</th>\n",
       "      <td>0.715138</td>\n",
       "      <td>0.708582</td>\n",
       "      <td>-0.695729</td>\n",
       "      <td>-0.735477</td>\n",
       "      <td>1.123006</td>\n",
       "      <td>0.718575</td>\n",
       "      <td>-0.676781</td>\n",
       "      <td>0.412761</td>\n",
       "      <td>-0.107496</td>\n",
       "      <td>0.138074</td>\n",
       "      <td>-0.000076</td>\n",
       "    </tr>\n",
       "    <tr>\n",
       "      <th>2</th>\n",
       "      <td>-0.290610</td>\n",
       "      <td>-1.411269</td>\n",
       "      <td>-0.695729</td>\n",
       "      <td>-1.021524</td>\n",
       "      <td>1.370968</td>\n",
       "      <td>0.718575</td>\n",
       "      <td>-0.676781</td>\n",
       "      <td>-1.636898</td>\n",
       "      <td>-0.107496</td>\n",
       "      <td>0.138074</td>\n",
       "      <td>-0.000076</td>\n",
       "    </tr>\n",
       "    <tr>\n",
       "      <th>3</th>\n",
       "      <td>0.463701</td>\n",
       "      <td>-1.411269</td>\n",
       "      <td>0.417166</td>\n",
       "      <td>0.042718</td>\n",
       "      <td>0.503099</td>\n",
       "      <td>0.718575</td>\n",
       "      <td>-0.380528</td>\n",
       "      <td>-1.636898</td>\n",
       "      <td>-0.107496</td>\n",
       "      <td>0.138074</td>\n",
       "      <td>-0.000076</td>\n",
       "    </tr>\n",
       "    <tr>\n",
       "      <th>4</th>\n",
       "      <td>0.149405</td>\n",
       "      <td>0.708582</td>\n",
       "      <td>-0.973953</td>\n",
       "      <td>2.939129</td>\n",
       "      <td>-0.488752</td>\n",
       "      <td>0.718575</td>\n",
       "      <td>-0.084275</td>\n",
       "      <td>0.412761</td>\n",
       "      <td>-0.107496</td>\n",
       "      <td>0.138074</td>\n",
       "      <td>-0.000076</td>\n",
       "    </tr>\n",
       "  </tbody>\n",
       "</table>\n",
       "</div>"
      ],
      "text/plain": [
       "   manufacturer_name  transmission     color  odometer_value  year_produced  \\\n",
       "0           1.280871     -1.411269 -1.252177       -0.874833       1.618931   \n",
       "1           0.715138      0.708582 -0.695729       -0.735477       1.123006   \n",
       "2          -0.290610     -1.411269 -0.695729       -1.021524       1.370968   \n",
       "3           0.463701     -1.411269  0.417166        0.042718       0.503099   \n",
       "4           0.149405      0.708582 -0.973953        2.939129      -0.488752   \n",
       "\n",
       "   engine_fuel  engine_capacity  body_type  has_warranty  ownership  \\\n",
       "0    -1.367799        -0.676781   1.095981     -0.107496   0.138074   \n",
       "1     0.718575        -0.676781   0.412761     -0.107496   0.138074   \n",
       "2     0.718575        -0.676781  -1.636898     -0.107496   0.138074   \n",
       "3     0.718575        -0.380528  -1.636898     -0.107496   0.138074   \n",
       "4     0.718575        -0.084275   0.412761     -0.107496   0.138074   \n",
       "\n",
       "   type_of_drive  \n",
       "0      -0.000076  \n",
       "1      -0.000076  \n",
       "2      -0.000076  \n",
       "3      -0.000076  \n",
       "4      -0.000076  "
      ]
     },
     "execution_count": 59,
     "metadata": {},
     "output_type": "execute_result"
    }
   ],
   "source": [
    "x_train.head()"
   ]
  },
  {
   "cell_type": "code",
   "execution_count": 60,
   "id": "1749a95a-3849-4591-8861-2624defd7ce2",
   "metadata": {},
   "outputs": [
    {
     "data": {
      "text/plain": [
       "0    1.005611\n",
       "1    0.130830\n",
       "2    0.858524\n",
       "3   -0.263983\n",
       "4   -0.565899\n",
       "Name: price_usd, dtype: float64"
      ]
     },
     "execution_count": 60,
     "metadata": {},
     "output_type": "execute_result"
    }
   ],
   "source": [
    "y_train.head()"
   ]
  },
  {
   "cell_type": "markdown",
   "id": "b63657c0",
   "metadata": {},
   "source": [
    "## Fit Model\n",
    "### Multiple Linear Regression\n",
    "Calling multiple linear regression model and fitting the training set"
   ]
  },
  {
   "cell_type": "code",
   "execution_count": 61,
   "id": "9a031199",
   "metadata": {},
   "outputs": [],
   "source": [
    "from sklearn.linear_model import LinearRegression\n",
    "\n",
    "model = LinearRegression()\n",
    "model_mlr = model.fit(x_train,y_train)"
   ]
  },
  {
   "cell_type": "markdown",
   "id": "d90a9ba2",
   "metadata": {},
   "source": [
    "Making price prediction using the testing set (Fit to MLR)"
   ]
  },
  {
   "cell_type": "code",
   "execution_count": 62,
   "id": "d176f727",
   "metadata": {},
   "outputs": [],
   "source": [
    "y_pred1 = model_mlr.predict(x_test)\n"
   ]
  },
  {
   "cell_type": "code",
   "execution_count": 63,
   "id": "7c513d6d-1d09-4bd4-b652-9482811bf845",
   "metadata": {},
   "outputs": [
    {
     "data": {
      "text/plain": [
       "2.1768230718220067"
      ]
     },
     "execution_count": 63,
     "metadata": {},
     "output_type": "execute_result"
    }
   ],
   "source": [
    "#randomly checking the y-test values \n",
    "y_test[0]"
   ]
  },
  {
   "cell_type": "code",
   "execution_count": 64,
   "id": "c07dcf1b-2b3e-4d22-acad-17b71b198da1",
   "metadata": {},
   "outputs": [
    {
     "data": {
      "text/plain": [
       "1.7777907876849899"
      ]
     },
     "execution_count": 64,
     "metadata": {},
     "output_type": "execute_result"
    }
   ],
   "source": [
    "#randomly checking the y-pred values \n",
    "y_pred1[0]"
   ]
  },
  {
   "cell_type": "markdown",
   "id": "c5df7d37-7033-404e-a631-658916fd06fa",
   "metadata": {},
   "source": [
    "y_test[0]   and   y_pred1[0]   have different values.. In other words, there is error"
   ]
  },
  {
   "cell_type": "markdown",
   "id": "0ef684eb",
   "metadata": {},
   "source": [
    "### MLR Evaluation\n"
   ]
  },
  {
   "cell_type": "markdown",
   "id": "80f5a1de",
   "metadata": {},
   "source": [
    "Calculating the Mean Square Error for MLR model"
   ]
  },
  {
   "cell_type": "code",
   "execution_count": 65,
   "id": "c480ef01",
   "metadata": {},
   "outputs": [
    {
     "name": "stdout",
     "output_type": "stream",
     "text": [
      "The mean square error for Multiple Linear Regression:  0.3544635274103705\n"
     ]
    }
   ],
   "source": [
    "mse1 = mean_squared_error(y_test, y_pred1)\n",
    "print('The mean square error for Multiple Linear Regression: ', mse1)"
   ]
  },
  {
   "cell_type": "markdown",
   "id": "4128bd69",
   "metadata": {},
   "source": [
    "Calculating the Mean Absolute Error for MLR model"
   ]
  },
  {
   "cell_type": "code",
   "execution_count": 66,
   "id": "ac76c78c",
   "metadata": {},
   "outputs": [
    {
     "name": "stdout",
     "output_type": "stream",
     "text": [
      "The mean absolute error for Multiple Linear Regression:  0.38603772932506264\n"
     ]
    }
   ],
   "source": [
    "mae1= mean_absolute_error(y_test, y_pred1)\n",
    "print('The mean absolute error for Multiple Linear Regression: ', mae1)"
   ]
  },
  {
   "cell_type": "markdown",
   "id": "c677dec7",
   "metadata": {},
   "source": [
    "### Random Forest Regressor (checking other Models)\n",
    "Calling the random forest model and fitting the training data"
   ]
  },
  {
   "cell_type": "code",
   "execution_count": 67,
   "id": "2f7dee27",
   "metadata": {},
   "outputs": [],
   "source": [
    "rf = RandomForestRegressor()\n",
    "model_rf = rf.fit(x_train,y_train)"
   ]
  },
  {
   "cell_type": "markdown",
   "id": "5c08d0b3",
   "metadata": {},
   "source": [
    "Prediction of car prices using the testing data"
   ]
  },
  {
   "cell_type": "code",
   "execution_count": 68,
   "id": "b85962cf",
   "metadata": {},
   "outputs": [],
   "source": [
    "y_pred2 = model_rf.predict(x_test)"
   ]
  },
  {
   "cell_type": "markdown",
   "id": "bf7b31db",
   "metadata": {},
   "source": [
    "### Random Forest Evaluation\n"
   ]
  },
  {
   "cell_type": "markdown",
   "id": "d88ab2e0",
   "metadata": {},
   "source": [
    "Calculating the Mean Square Error for Random Forest Model (Lowest MSE value)"
   ]
  },
  {
   "cell_type": "code",
   "execution_count": 69,
   "id": "3a923abb",
   "metadata": {},
   "outputs": [
    {
     "name": "stdout",
     "output_type": "stream",
     "text": [
      "The mean square error of price and predicted value is:  0.04133083484069893\n"
     ]
    }
   ],
   "source": [
    "mse2 = mean_squared_error(y_test, y_pred2)\n",
    "print('The mean square error of price and predicted value is: ', mse2)"
   ]
  },
  {
   "cell_type": "markdown",
   "id": "e5587168",
   "metadata": {},
   "source": [
    "Calculating the Mean Absolute Error for Random Forest Model (Lowest Mean Absolute Error)"
   ]
  },
  {
   "cell_type": "code",
   "execution_count": 70,
   "id": "18862272",
   "metadata": {},
   "outputs": [
    {
     "name": "stdout",
     "output_type": "stream",
     "text": [
      "The mean absolute error of price and predicted value is:  0.10892670292815294\n"
     ]
    }
   ],
   "source": [
    "mae2= mean_absolute_error(y_test, y_pred2)\n",
    "print('The mean absolute error of price and predicted value is: ', mae2)"
   ]
  },
  {
   "cell_type": "markdown",
   "id": "364f9bd9",
   "metadata": {},
   "source": [
    "### LASSO Model \n",
    "Calling the model and fitting the training data"
   ]
  },
  {
   "cell_type": "code",
   "execution_count": 71,
   "id": "77dff6fe",
   "metadata": {},
   "outputs": [],
   "source": [
    "LassoModel = Lasso()\n",
    "model_lm = LassoModel.fit(x_train,y_train)"
   ]
  },
  {
   "cell_type": "markdown",
   "id": "ae4a5264",
   "metadata": {},
   "source": [
    "Price prediction uisng testing data"
   ]
  },
  {
   "cell_type": "code",
   "execution_count": 72,
   "id": "0bd51e54",
   "metadata": {},
   "outputs": [],
   "source": [
    "y_pred3 = model_lm.predict(x_test)"
   ]
  },
  {
   "cell_type": "markdown",
   "id": "9d5d15ba",
   "metadata": {},
   "source": [
    "### LASSO Evaluation  (checking another model)\n"
   ]
  },
  {
   "cell_type": "markdown",
   "id": "16f14dc9",
   "metadata": {},
   "source": [
    "Mean Absolute Error for LASSO Model"
   ]
  },
  {
   "cell_type": "code",
   "execution_count": 73,
   "id": "160d9cf0",
   "metadata": {},
   "outputs": [
    {
     "name": "stdout",
     "output_type": "stream",
     "text": [
      "The mean absolute error of price and predicted value is:  0.7161592773445759\n"
     ]
    }
   ],
   "source": [
    "mae3= mean_absolute_error(y_test, y_pred3)\n",
    "print('The mean absolute error of price and predicted value is: ', mae3)"
   ]
  },
  {
   "cell_type": "markdown",
   "id": "072e474b",
   "metadata": {},
   "source": [
    "Mean Squared Error for the LASSO Model"
   ]
  },
  {
   "cell_type": "code",
   "execution_count": 74,
   "id": "0c4df792",
   "metadata": {},
   "outputs": [
    {
     "name": "stdout",
     "output_type": "stream",
     "text": [
      "The mean square error of price and predicted value is:  1.0\n"
     ]
    }
   ],
   "source": [
    "mse3 = mean_squared_error(y_test, y_pred3)\n",
    "print('The mean square error of price and predicted value is: ', mse3)"
   ]
  },
  {
   "cell_type": "code",
   "execution_count": 75,
   "id": "bb2bee20",
   "metadata": {},
   "outputs": [],
   "source": [
    "scores = [('MLR', mae1),\n",
    "          ('Random Forest', mae2),\n",
    "          ('LASSO', mae3)\n",
    "         ]         "
   ]
  },
  {
   "cell_type": "code",
   "execution_count": 76,
   "id": "b85712ee",
   "metadata": {},
   "outputs": [
    {
     "data": {
      "text/html": [
       "<div>\n",
       "<style scoped>\n",
       "    .dataframe tbody tr th:only-of-type {\n",
       "        vertical-align: middle;\n",
       "    }\n",
       "\n",
       "    .dataframe tbody tr th {\n",
       "        vertical-align: top;\n",
       "    }\n",
       "\n",
       "    .dataframe thead th {\n",
       "        text-align: right;\n",
       "    }\n",
       "</style>\n",
       "<table border=\"1\" class=\"dataframe\">\n",
       "  <thead>\n",
       "    <tr style=\"text-align: right;\">\n",
       "      <th></th>\n",
       "      <th>Model</th>\n",
       "      <th>MAE Score</th>\n",
       "    </tr>\n",
       "  </thead>\n",
       "  <tbody>\n",
       "    <tr>\n",
       "      <th>0</th>\n",
       "      <td>MLR</td>\n",
       "      <td>0.386038</td>\n",
       "    </tr>\n",
       "    <tr>\n",
       "      <th>1</th>\n",
       "      <td>Random Forest</td>\n",
       "      <td>0.108927</td>\n",
       "    </tr>\n",
       "    <tr>\n",
       "      <th>2</th>\n",
       "      <td>LASSO</td>\n",
       "      <td>0.716159</td>\n",
       "    </tr>\n",
       "  </tbody>\n",
       "</table>\n",
       "</div>"
      ],
      "text/plain": [
       "           Model  MAE Score\n",
       "0            MLR   0.386038\n",
       "1  Random Forest   0.108927\n",
       "2          LASSO   0.716159"
      ]
     },
     "execution_count": 76,
     "metadata": {},
     "output_type": "execute_result"
    }
   ],
   "source": [
    "mae = pd.DataFrame(data = scores, columns=['Model', 'MAE Score'])\n",
    "mae"
   ]
  },
  {
   "cell_type": "code",
   "execution_count": 78,
   "id": "c6c95dae",
   "metadata": {},
   "outputs": [
    {
     "data": {
      "image/png": "[encoded data removed]",
      "text/plain": [
       "<Figure size 720x504 with 1 Axes>"
      ]
     },
     "metadata": {
      "needs_background": "light"
     },
     "output_type": "display_data"
    }
   ],
   "source": [
    "mae.sort_values(by=(['MAE Score']), ascending=False, inplace=True)\n",
    "\n",
    "f, axe = plt.subplots(1,1, figsize=(10,7))\n",
    "sns.barplot(x = mae['Model'], y=mae['MAE Score'], ax = axe)\n",
    "axe.set_xlabel('Model', size=20)\n",
    "axe.set_ylabel('Mean Absolute Error', size=20)\n",
    "\n",
    "plt.show()"
   ]
  },
  {
   "cell_type": "markdown",
   "id": "2509d6f1-e2a7-43dd-a98d-1ca84ed5b831",
   "metadata": {},
   "source": [
    "#Based on the MAE, it is concluded that the Random Forest is the best regression model for predicting the car price based on the 12 predictor variables "
   ]
  },
  {
   "cell_type": "code",
   "execution_count": null,
   "id": "f1e02c37-cc90-4f39-a2a2-a65ed1ba295a",
   "metadata": {},
   "outputs": [],
   "source": []
  }
 ],
 "metadata": {
  "kernelspec": {
   "display_name": "Python 3",
   "language": "python",
   "name": "python3"
  },
  "language_info": {
   "codemirror_mode": {
    "name": "ipython",
    "version": 3
   },
   "file_extension": ".py",
   "mimetype": "text/x-python",
   "name": "python",
   "nbconvert_exporter": "python",
   "pygments_lexer": "ipython3",
   "version": "3.7.12"
  }
 },
 "nbformat": 4,
 "nbformat_minor": 5
}
